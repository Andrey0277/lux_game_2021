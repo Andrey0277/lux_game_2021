{
 "cells": [
  {
   "cell_type": "code",
   "execution_count": null,
   "metadata": {
    "execution": {
     "iopub.execute_input": "2022-01-15T13:59:48.967531Z",
     "iopub.status.busy": "2022-01-15T13:59:48.967232Z",
     "iopub.status.idle": "2022-01-15T13:59:49.729758Z",
     "shell.execute_reply": "2022-01-15T13:59:49.728868Z",
     "shell.execute_reply.started": "2022-01-15T13:59:48.967494Z"
    }
   },
   "outputs": [],
   "source": [
    "#!pip install kaggle-environments -U > /dev/null 2>&1\n",
    "#!cp -r ../input/lux-ai-2021/* ."
   ]
  },
  {
   "cell_type": "code",
   "execution_count": 1,
   "metadata": {
    "_cell_guid": "b1076dfc-b9ad-4769-8c92-a6c4dae69d19",
    "_uuid": "8f2839f25d086af736a60e9eeb907d3b93b6e0e5",
    "tags": []
   },
   "outputs": [],
   "source": [
    "import numpy as np\n",
    "import json\n",
    "from pathlib import Path\n",
    "import os\n",
    "import random\n",
    "from tqdm.notebook import tqdm\n",
    "import torch\n",
    "from torch import nn\n",
    "import torch.nn.functional as F\n",
    "from torch.utils.data import Dataset, DataLoader\n",
    "import torch.optim as optim\n",
    "from sklearn.model_selection import train_test_split\n",
    "import pdb\n",
    "import pickle"
   ]
  },
  {
   "cell_type": "code",
   "execution_count": 2,
   "metadata": {},
   "outputs": [
    {
     "data": {
      "text/plain": [
       "True"
      ]
     },
     "execution_count": 2,
     "metadata": {},
     "output_type": "execute_result"
    }
   ],
   "source": [
    "torch.cuda.is_available()"
   ]
  },
  {
   "cell_type": "markdown",
   "metadata": {
    "tags": []
   },
   "source": [
    "# Preprocessing"
   ]
  },
  {
   "cell_type": "code",
   "execution_count": 6,
   "metadata": {
    "tags": []
   },
   "outputs": [],
   "source": [
    "\n",
    "\n",
    "def to_label(action):\n",
    "    strs = action.split(' ')\n",
    "    unit_id = strs[1]\n",
    "    if strs[0] == 'm':\n",
    "        label = {'c': None, 'n': 0, 's': 1, 'w': 2, 'e': 3}[strs[2]]\n",
    "    elif strs[0] == 'bcity':\n",
    "        label = 4\n",
    "    else:\n",
    "        label = None\n",
    "    return unit_id, label\n",
    "\n",
    "\n",
    "def depleted_resources(obs):\n",
    "    for u in obs['updates']:\n",
    "        if u.split(' ')[0] == 'r':\n",
    "            return False\n",
    "    return True\n",
    "\n",
    "\n",
    "def create_dataset_from_json(episode_dir, team_name='Toad Brigade'): \n",
    "    obses = {}\n",
    "    samples = []\n",
    "    append = samples.append\n",
    "    episodes = [path for path in Path(episode_dir).glob('*.json') if 'output' not in path.name]\n",
    "    for filepath in tqdm(episodes): \n",
    "        with open(filepath) as f:\n",
    "            json_load = json.load(f)\n",
    "\n",
    "        ep_id = json_load['info']['EpisodeId']\n",
    "        \n",
    "\n",
    "        index = np.argmax([r or 0 for r in json_load['rewards']])\n",
    "        \n",
    "\n",
    "        \n",
    "        if json_load['info']['TeamNames'][index] != team_name:\n",
    "            continue\n",
    "\n",
    "        for i in range(len(json_load['steps'])-1):\n",
    "            \n",
    "\n",
    "            \n",
    "            if json_load['steps'][i][index]['status'] == 'ACTIVE':\n",
    "                actions = json_load['steps'][i+1][index]['action']\n",
    "                obs = json_load['steps'][i][0]['observation']\n",
    "                \n",
    "                if depleted_resources(obs):\n",
    "                    break\n",
    "                \n",
    "                obs['player'] = index\n",
    "                obs = dict([\n",
    "                    (k,v) for k,v in obs.items() \n",
    "                    if k in ['step', 'updates', 'player', 'width', 'height']\n",
    "                ])\n",
    "                obs_id = f'{ep_id}_{i}'\n",
    "                obses[obs_id] = obs\n",
    "                                \n",
    "                for action in actions:\n",
    "                    unit_id, label = to_label(action)\n",
    "                    if label is not None:\n",
    "                        append((obs_id, unit_id, label))\n",
    "\n",
    "    return obses, samples "
   ]
  },
  {
   "cell_type": "code",
   "execution_count": null,
   "metadata": {},
   "outputs": [],
   "source": []
  },
  {
   "cell_type": "code",
   "execution_count": 7,
   "metadata": {
    "tags": []
   },
   "outputs": [
    {
     "data": {
      "application/vnd.jupyter.widget-view+json": {
       "model_id": "28214abe3f1b4a56ae75b47d46de287a",
       "version_major": 2,
       "version_minor": 0
      },
      "text/plain": [
       "  0%|          | 0/467 [00:00<?, ?it/s]"
      ]
     },
     "metadata": {},
     "output_type": "display_data"
    }
   ],
   "source": [
    "episode_dir = 'data/archive'\n",
    "obses, samples = create_dataset_from_json(episode_dir)"
   ]
  },
  {
   "cell_type": "code",
   "execution_count": 8,
   "metadata": {
    "tags": []
   },
   "outputs": [
    {
     "name": "stdout",
     "output_type": "stream",
     "text": [
      "obses: 147014 samples: 988664\n"
     ]
    }
   ],
   "source": [
    "\n",
    "print('obses:', len(obses), 'samples:', len(samples))"
   ]
  },
  {
   "cell_type": "code",
   "execution_count": 9,
   "metadata": {
    "tags": []
   },
   "outputs": [
    {
     "data": {
      "text/plain": [
       "('28407441_35', 'u_9', 1)"
      ]
     },
     "execution_count": 9,
     "metadata": {},
     "output_type": "execute_result"
    }
   ],
   "source": [
    "samples[71]"
   ]
  },
  {
   "cell_type": "code",
   "execution_count": 10,
   "metadata": {
    "tags": []
   },
   "outputs": [
    {
     "data": {
      "text/plain": [
       "{'height': 16,\n",
       " 'player': 1,\n",
       " 'step': 35,\n",
       " 'updates': ['rp 0 10',\n",
       "  'rp 1 13',\n",
       "  'r coal 0 6 365',\n",
       "  'r coal 0 9 365',\n",
       "  'r wood 3 0 488',\n",
       "  'r wood 3 3 500',\n",
       "  'r wood 3 12 474',\n",
       "  'r wood 3 15 342',\n",
       "  'r wood 4 0 447',\n",
       "  'r wood 4 3 364',\n",
       "  'r wood 4 4 402',\n",
       "  'r wood 4 11 361',\n",
       "  'r wood 4 12 354',\n",
       "  'r wood 4 15 362',\n",
       "  'r uranium 6 6 306',\n",
       "  'r uranium 6 7 327',\n",
       "  'r uranium 6 8 327',\n",
       "  'r uranium 6 9 306',\n",
       "  'r uranium 7 5 348',\n",
       "  'r uranium 7 6 316',\n",
       "  'r uranium 7 7 337',\n",
       "  'r uranium 7 8 337',\n",
       "  'r uranium 7 9 316',\n",
       "  'r uranium 7 10 348',\n",
       "  'r coal 13 5 416',\n",
       "  'r coal 13 6 424',\n",
       "  'r coal 13 9 424',\n",
       "  'r coal 13 10 416',\n",
       "  'r wood 14 0 500',\n",
       "  'r coal 14 5 361',\n",
       "  'r coal 14 6 378',\n",
       "  'r coal 14 9 378',\n",
       "  'r coal 14 10 361',\n",
       "  'r wood 14 15 500',\n",
       "  'r wood 15 0 500',\n",
       "  'r wood 15 15 500',\n",
       "  'u 0 0 u_1 6 12 0 80 0 0',\n",
       "  'u 0 0 u_3 4 2 0 0 0 0',\n",
       "  'u 0 0 u_7 4 5 0 96 0 0',\n",
       "  'u 0 0 u_8 3 9 1 80 0 0',\n",
       "  'u 0 0 u_11 11 3 0 80 0 0',\n",
       "  'u 0 0 u_12 4 1 0 0 0 0',\n",
       "  'u 0 0 u_14 5 4 0 0 0 0',\n",
       "  'u 0 1 u_2 3 14 0 0 0 0',\n",
       "  'u 0 1 u_4 12 12 1 80 0 0',\n",
       "  'u 0 1 u_5 4 10 0 0 0 0',\n",
       "  'u 0 1 u_6 5 5 0 80 0 0',\n",
       "  'u 0 1 u_9 4 13 0 0 0 0',\n",
       "  'u 0 1 u_10 5 12 0 96 0 0',\n",
       "  'u 0 1 u_13 5 11 0 96 0 0',\n",
       "  'u 0 1 u_15 3 11 1 96 0 0',\n",
       "  'u 0 1 u_16 4 13 0 0 0 0',\n",
       "  'c 0 c_3 100 36',\n",
       "  'c 1 c_4 210 78',\n",
       "  'c 0 c_5 360 52',\n",
       "  'c 1 c_7 60 36',\n",
       "  'ct 0 c_3 5 4 3',\n",
       "  'ct 0 c_3 5 3 0',\n",
       "  'ct 1 c_4 3 13 0',\n",
       "  'ct 1 c_4 4 13 6',\n",
       "  'ct 1 c_4 4 14 2',\n",
       "  'ct 1 c_4 3 14 8',\n",
       "  'ct 1 c_4 5 14 0',\n",
       "  'ct 1 c_4 2 14 5',\n",
       "  'ct 0 c_5 3 2 6',\n",
       "  'ct 0 c_5 3 1 2',\n",
       "  'ct 0 c_5 4 2 3',\n",
       "  'ct 0 c_5 4 1 8',\n",
       "  'ct 1 c_7 4 10 2',\n",
       "  'ct 1 c_7 5 10 9',\n",
       "  'ccd 3 1 6',\n",
       "  'ccd 4 1 6',\n",
       "  'ccd 3 2 6',\n",
       "  'ccd 4 2 6',\n",
       "  'ccd 5 3 6',\n",
       "  'ccd 5 4 6',\n",
       "  'ccd 4 10 6',\n",
       "  'ccd 5 10 6',\n",
       "  'ccd 3 13 6',\n",
       "  'ccd 4 13 6',\n",
       "  'ccd 2 14 6',\n",
       "  'ccd 3 14 6',\n",
       "  'ccd 4 14 6',\n",
       "  'ccd 5 14 6',\n",
       "  'D_DONE'],\n",
       " 'width': 16}"
      ]
     },
     "execution_count": 10,
     "metadata": {},
     "output_type": "execute_result"
    }
   ],
   "source": [
    "# samples[3]\n",
    "obses[\"28407441_35\"]"
   ]
  },
  {
   "cell_type": "code",
   "execution_count": 11,
   "metadata": {},
   "outputs": [
    {
     "data": {
      "application/vnd.jupyter.widget-view+json": {
       "model_id": "6eaaef30995443e2b7a237c6c2e38cf3",
       "version_major": 2,
       "version_minor": 0
      },
      "text/plain": [
       "  0%|          | 0/988664 [00:00<?, ?it/s]"
      ]
     },
     "metadata": {},
     "output_type": "display_data"
    },
    {
     "data": {
      "text/plain": [
       "('28407441_35', 'u_9', 1)"
      ]
     },
     "execution_count": 11,
     "metadata": {},
     "output_type": "execute_result"
    }
   ],
   "source": [
    "#('28407441_35', 'u_9', 1)\n",
    "def prep (obs, unit_id ):\n",
    "    width, height = obs['width'], obs['height']\n",
    "    x_shift = (32 - width) // 2\n",
    "    y_shift = (32 - height) // 2\n",
    "    for update in obs['updates']:\n",
    "        strs = update.split(' ')\n",
    "        if strs[0] == 'u' and unit_id[1] == strs[3]:\n",
    "            # Position and Cargo\n",
    "            x = int(strs[4]) + x_shift\n",
    "            y = int(strs[5]) + y_shift\n",
    "            wood = int(strs[7])\n",
    "            coal = int(strs[8])\n",
    "            uranium = int(strs[9])\n",
    "            return  (unit_id[0],unit_id[1] ,x,y, (1,(wood + coal + uranium) / 100), unit_id[2] )\n",
    "             \n",
    "    \n",
    "sam=[]\n",
    "for i in tqdm(samples):\n",
    "    sam.append(prep(obses[i[0]], i))\n",
    "\n",
    "samples[71]"
   ]
  },
  {
   "cell_type": "code",
   "execution_count": 12,
   "metadata": {},
   "outputs": [
    {
     "data": {
      "text/plain": [
       "('28407441_35', 'u_9', 12, 21, (1, 0.0), 1)"
      ]
     },
     "execution_count": 12,
     "metadata": {},
     "output_type": "execute_result"
    }
   ],
   "source": [
    "sam[71]"
   ]
  },
  {
   "cell_type": "code",
   "execution_count": 13,
   "metadata": {},
   "outputs": [],
   "source": [
    "def resorse_light(data, x_shift, y_shift):\n",
    "    resorse=[ i.split() for i in data[\"updates\"] if i.split()[0]==\"r\" ]\n",
    "\n",
    "    resorse_point={}\n",
    "    vfunc = np.vectorize(lambda x:int(x))\n",
    "    resorse_point[\"wood\"]=    np.array([ i[2:] for i in resorse if i[1]==\"wood\"  ])\n",
    "    resorse_point[\"coal\"]=    np.array([ i[2:] for i in resorse if i[1]==\"coal\"  ])\n",
    "    resorse_point[\"uranium\"]= np.array([ i[2:] for i in resorse if i[1]==\"uranium\"])\n",
    "    for i in resorse_point:\n",
    "        try:\n",
    "            resorse_point[i]=vfunc(resorse_point[i])\n",
    "        except:\n",
    "            pass\n",
    "\n",
    "\n",
    "    resorse=np.zeros((3,32,32),dtype=np.float32)\n",
    "    for ind, r in enumerate(resorse_point):\n",
    "        if len(resorse_point[r])==0:\n",
    "              continue\n",
    "        for i in range(data[\"width\"]):\n",
    "              for j in range(data[\"width\"]):\n",
    "                    resorse[ind,i+x_shift,j+y_shift]= sum(resorse_point[r][:,2]/( np.abs(resorse_point[r][:,0]-i)+np.abs(resorse_point[r][:,1]-j)+0.3))\n",
    "\n",
    "    return resorse/(np.max(resorse,axis=(1,2)).reshape((3, 1,1))+0.01)\n",
    "\n",
    "def make_input(obs):\n",
    "    width, height = obs['width'], obs['height']\n",
    "    x_shift = (32 - width) // 2\n",
    "    y_shift = (32 - height) // 2\n",
    "    cities = {}\n",
    "    \n",
    "    b = np.zeros((20, 32, 32), dtype=np.float32)\n",
    "    \n",
    "    for update in obs['updates']:\n",
    "        strs = update.split(' ')\n",
    "        input_identifier = strs[0]\n",
    "        \n",
    "        if input_identifier == 'u':\n",
    "            x = int(strs[4]) + x_shift\n",
    "            y = int(strs[5]) + y_shift\n",
    "            wood = int(strs[7])\n",
    "            coal = int(strs[8])\n",
    "            uranium = int(strs[9])\n",
    "          \n",
    "            # Units\n",
    "            team = int(strs[2])\n",
    "            cooldown = float(strs[6])\n",
    "            idx = 2 + (team - obs['player']) % 2 * 3\n",
    "            b[idx:idx + 3, x, y] = (\n",
    "                1,\n",
    "                cooldown / 6,\n",
    "                (wood + coal + uranium) / 100\n",
    "            )\n",
    "        elif input_identifier == 'ct':\n",
    "            # CityTiles\n",
    "            team = int(strs[1])\n",
    "            city_id = strs[2]\n",
    "            x = int(strs[3]) + x_shift\n",
    "            y = int(strs[4]) + y_shift\n",
    "            idx = 8 + (team - obs['player']) % 2 * 2\n",
    "            b[idx:idx + 2, x, y] = (\n",
    "                1,\n",
    "                cities[city_id]\n",
    "            )\n",
    "        \n",
    "        elif input_identifier == 'rp':\n",
    "            # Research Points\n",
    "            team = int(strs[1])\n",
    "            rp = int(strs[2])\n",
    "            b[15 + (team - obs['player']) % 2, :] = min(rp, 200) / 200\n",
    "        elif input_identifier == 'c':\n",
    "            # Cities\n",
    "            city_id = strs[2]\n",
    "            fuel = float(strs[3])\n",
    "            lightupkeep = float(strs[4])\n",
    "            cities[city_id] = min(fuel / lightupkeep, 10) / 10\n",
    "    \n",
    "    # Day/Night Cycle\n",
    "    b[17, :] = obs['step'] % 40 / 40\n",
    "    # Turns\n",
    "    b[18, :] = obs['step'] / 360\n",
    "    # Map Size\n",
    "    b[19, x_shift:32 - x_shift, y_shift:32 - y_shift] = 1\n",
    "   \n",
    "    b[12:15]= resorse_light(obs, x_shift, y_shift)\n",
    "        \n",
    "    return b \n"
   ]
  },
  {
   "cell_type": "code",
   "execution_count": 14,
   "metadata": {},
   "outputs": [],
   "source": [
    "exemple=make_input(obses[\"28407441_35\"])"
   ]
  },
  {
   "cell_type": "code",
   "execution_count": 15,
   "metadata": {},
   "outputs": [
    {
     "data": {
      "text/plain": [
       "<AxesSubplot:>"
      ]
     },
     "execution_count": 15,
     "metadata": {},
     "output_type": "execute_result"
    },
    {
     "data": {
      "image/png": "[encoded data removed]",
      "text/plain": [
       "<Figure size 432x288 with 2 Axes>"
      ]
     },
     "metadata": {
      "needs_background": "light"
     },
     "output_type": "display_data"
    }
   ],
   "source": [
    "import seaborn as sns\n",
    "sns.heatmap(exemple[14])"
   ]
  },
  {
   "cell_type": "code",
   "execution_count": 25,
   "metadata": {},
   "outputs": [
    {
     "data": {
      "application/vnd.jupyter.widget-view+json": {
       "model_id": "2274497eb1b64fcbab074102282d068d",
       "version_major": 2,
       "version_minor": 0
      },
      "text/plain": [
       "  0%|          | 0/988664 [00:00<?, ?it/s]"
      ]
     },
     "metadata": {},
     "output_type": "display_data"
    }
   ],
   "source": [
    "dict_sample={}\n",
    "for i in tqdm(sam):\n",
    "    try:\n",
    "        dict_sample[i[0]].append(i)\n",
    "    except:\n",
    "        dict_sample[i[0]]=[]\n",
    "        dict_sample[i[0]].append(i) \n",
    "           "
   ]
  },
  {
   "cell_type": "code",
   "execution_count": 26,
   "metadata": {},
   "outputs": [
    {
     "name": "stdout",
     "output_type": "stream",
     "text": [
      "mkdir: cannot create directory ‘preprocesing_data’: File exists\n"
     ]
    }
   ],
   "source": [
    "!mkdir preprocesing_data"
   ]
  },
  {
   "cell_type": "code",
   "execution_count": 27,
   "metadata": {},
   "outputs": [
    {
     "data": {
      "application/vnd.jupyter.widget-view+json": {
       "model_id": "9b1c7382418e4ff680fcad583d8c9ce3",
       "version_major": 2,
       "version_minor": 0
      },
      "text/plain": [
       "  0%|          | 0/9801 [00:00<?, ?it/s]"
      ]
     },
     "metadata": {},
     "output_type": "display_data"
    },
    {
     "data": {
      "application/vnd.jupyter.widget-view+json": {
       "model_id": "62128a452c514ba4b1466fb5a170d3a9",
       "version_major": 2,
       "version_minor": 0
      },
      "text/plain": [
       "  0%|          | 0/9801 [00:00<?, ?it/s]"
      ]
     },
     "metadata": {},
     "output_type": "display_data"
    },
    {
     "data": {
      "application/vnd.jupyter.widget-view+json": {
       "model_id": "e4884ec187e74b488e52841ab8a4e2bd",
       "version_major": 2,
       "version_minor": 0
      },
      "text/plain": [
       "  0%|          | 0/9801 [00:00<?, ?it/s]"
      ]
     },
     "metadata": {},
     "output_type": "display_data"
    },
    {
     "data": {
      "application/vnd.jupyter.widget-view+json": {
       "model_id": "e2fbcbd4c8014139ba88efa62a33254d",
       "version_major": 2,
       "version_minor": 0
      },
      "text/plain": [
       "  0%|          | 0/9801 [00:00<?, ?it/s]"
      ]
     },
     "metadata": {},
     "output_type": "display_data"
    },
    {
     "data": {
      "application/vnd.jupyter.widget-view+json": {
       "model_id": "95d86a37698e4cb09f536e57036c7ce8",
       "version_major": 2,
       "version_minor": 0
      },
      "text/plain": [
       "  0%|          | 0/9801 [00:00<?, ?it/s]"
      ]
     },
     "metadata": {},
     "output_type": "display_data"
    },
    {
     "data": {
      "application/vnd.jupyter.widget-view+json": {
       "model_id": "f072170a57c94cfdb28272776ab19241",
       "version_major": 2,
       "version_minor": 0
      },
      "text/plain": [
       "  0%|          | 0/9801 [00:00<?, ?it/s]"
      ]
     },
     "metadata": {},
     "output_type": "display_data"
    },
    {
     "data": {
      "application/vnd.jupyter.widget-view+json": {
       "model_id": "5086cf60d2534ab18742ac205155a554",
       "version_major": 2,
       "version_minor": 0
      },
      "text/plain": [
       "  0%|          | 0/9801 [00:00<?, ?it/s]"
      ]
     },
     "metadata": {},
     "output_type": "display_data"
    },
    {
     "data": {
      "application/vnd.jupyter.widget-view+json": {
       "model_id": "fab0f7276dd844fe92b1ec9b395ad862",
       "version_major": 2,
       "version_minor": 0
      },
      "text/plain": [
       "  0%|          | 0/9801 [00:00<?, ?it/s]"
      ]
     },
     "metadata": {},
     "output_type": "display_data"
    },
    {
     "data": {
      "application/vnd.jupyter.widget-view+json": {
       "model_id": "c3e6d44013c64aef9ccb16aefa79c4cd",
       "version_major": 2,
       "version_minor": 0
      },
      "text/plain": [
       "  0%|          | 0/9801 [00:00<?, ?it/s]"
      ]
     },
     "metadata": {},
     "output_type": "display_data"
    },
    {
     "data": {
      "application/vnd.jupyter.widget-view+json": {
       "model_id": "965ab73aec3449569267437857eea748",
       "version_major": 2,
       "version_minor": 0
      },
      "text/plain": [
       "  0%|          | 0/9801 [00:00<?, ?it/s]"
      ]
     },
     "metadata": {},
     "output_type": "display_data"
    },
    {
     "data": {
      "application/vnd.jupyter.widget-view+json": {
       "model_id": "ba77fa76b7454be992f20cde9b7e6f7f",
       "version_major": 2,
       "version_minor": 0
      },
      "text/plain": [
       "  0%|          | 0/9801 [00:00<?, ?it/s]"
      ]
     },
     "metadata": {},
     "output_type": "display_data"
    },
    {
     "data": {
      "application/vnd.jupyter.widget-view+json": {
       "model_id": "ca1c47b5bf234007825586b4db082fd2",
       "version_major": 2,
       "version_minor": 0
      },
      "text/plain": [
       "  0%|          | 0/9801 [00:00<?, ?it/s]"
      ]
     },
     "metadata": {},
     "output_type": "display_data"
    },
    {
     "data": {
      "application/vnd.jupyter.widget-view+json": {
       "model_id": "27d973c5527848adb58a3d82f134d83c",
       "version_major": 2,
       "version_minor": 0
      },
      "text/plain": [
       "  0%|          | 0/9801 [00:00<?, ?it/s]"
      ]
     },
     "metadata": {},
     "output_type": "display_data"
    },
    {
     "data": {
      "application/vnd.jupyter.widget-view+json": {
       "model_id": "6bcfb0ba80a04dc098114c3a682a3248",
       "version_major": 2,
       "version_minor": 0
      },
      "text/plain": [
       "  0%|          | 0/9801 [00:00<?, ?it/s]"
      ]
     },
     "metadata": {},
     "output_type": "display_data"
    },
    {
     "data": {
      "application/vnd.jupyter.widget-view+json": {
       "model_id": "137324e42dba48a98789021144781456",
       "version_major": 2,
       "version_minor": 0
      },
      "text/plain": [
       "  0%|          | 0/9800 [00:00<?, ?it/s]"
      ]
     },
     "metadata": {},
     "output_type": "display_data"
    }
   ],
   "source": [
    "dir_=\"preprocesing_data\"\n",
    "splits = np.array_split(list(obses.keys()), 15)\n",
    "\n",
    "for index, batch in enumerate(splits):\n",
    "    count_samples=0\n",
    "    count_batch=0\n",
    "    data={}\n",
    "    for key in tqdm(batch):\n",
    "        \n",
    "        obs=make_input(obses[key])\n",
    "        try:\n",
    "            data[key]= {\"obses\":obs,\"samples\":dict_sample[key]}\n",
    "            count_samples+=len(dict_sample[key])\n",
    "            count_batch+=1\n",
    "        except KeyError:\n",
    "            pass   \n",
    "    if  count_samples>0:     \n",
    "        with open(f\"{dir_}/file_data_{index}.pickle\", 'wb') as f:\n",
    "                pickle.dump({'samples':count_samples ,'obses':count_batch }, f) \n",
    "                pickle.dump(data, f) \n",
    "\n",
    "            \n",
    "  "
   ]
  },
  {
   "cell_type": "code",
   "execution_count": 28,
   "metadata": {},
   "outputs": [],
   "source": [
    "import pickle\n",
    "dir_=\"preprocesing_data\"\n",
    "def Lengs_data(path_folder):\n",
    "        episodes = [path for path in Path(path_folder).glob('*data*.pickle') ] \n",
    "        d={'samples':0, 'obses':0}\n",
    "        total={}\n",
    "        for i in episodes:\n",
    "            with open(i, 'rb') as f:\n",
    "                a = pickle.load(f) \n",
    "                d['samples']+=a[\"samples\"]\n",
    "                d['obses']+=a[\"obses\"] \n",
    "                print( i, \" sample \",a[\"samples\"], \" obses \", a[\"obses\"]   )\n",
    "                a = pickle.load(f)\n",
    "                obs=len(a)\n",
    "                sam=0\n",
    "              \n",
    "                for i2 in a:\n",
    "                    sam+=len(a[i2][\"samples\"])\n",
    "                  \n",
    "                print( i, \" sample_real \", sam, \" obses_real \", obs  )\n",
    "                    \n",
    "                \n",
    "                \n",
    "        return d"
   ]
  },
  {
   "cell_type": "code",
   "execution_count": 29,
   "metadata": {},
   "outputs": [
    {
     "name": "stdout",
     "output_type": "stream",
     "text": [
      "preprocesing_data/file_data_0.pickle  sample  65479  obses  9014\n",
      "preprocesing_data/file_data_0.pickle  sample_real  65479  obses_real  9014\n",
      "preprocesing_data/file_data_1.pickle  sample  80374  obses  9182\n",
      "preprocesing_data/file_data_1.pickle  sample_real  80374  obses_real  9182\n",
      "preprocesing_data/file_data_10.pickle  sample  56451  obses  8920\n",
      "preprocesing_data/file_data_10.pickle  sample_real  56451  obses_real  8920\n",
      "preprocesing_data/file_data_11.pickle  sample  71036  obses  8938\n",
      "preprocesing_data/file_data_11.pickle  sample_real  71036  obses_real  8938\n",
      "preprocesing_data/file_data_12.pickle  sample  53398  obses  8825\n",
      "preprocesing_data/file_data_12.pickle  sample_real  53398  obses_real  8825\n",
      "preprocesing_data/file_data_13.pickle  sample  62882  obses  8795\n",
      "preprocesing_data/file_data_13.pickle  sample_real  62882  obses_real  8795\n",
      "preprocesing_data/file_data_14.pickle  sample  68039  obses  8891\n",
      "preprocesing_data/file_data_14.pickle  sample_real  68039  obses_real  8891\n",
      "preprocesing_data/file_data_2.pickle  sample  67261  obses  9137\n",
      "preprocesing_data/file_data_2.pickle  sample_real  67261  obses_real  9137\n",
      "preprocesing_data/file_data_3.pickle  sample  70062  obses  9178\n",
      "preprocesing_data/file_data_3.pickle  sample_real  70062  obses_real  9178\n",
      "preprocesing_data/file_data_4.pickle  sample  72105  obses  9077\n",
      "preprocesing_data/file_data_4.pickle  sample_real  72105  obses_real  9077\n",
      "preprocesing_data/file_data_5.pickle  sample  69384  obses  8983\n",
      "preprocesing_data/file_data_5.pickle  sample_real  69384  obses_real  8983\n",
      "preprocesing_data/file_data_6.pickle  sample  64742  obses  8863\n",
      "preprocesing_data/file_data_6.pickle  sample_real  64742  obses_real  8863\n",
      "preprocesing_data/file_data_7.pickle  sample  57081  obses  8697\n",
      "preprocesing_data/file_data_7.pickle  sample_real  57081  obses_real  8697\n",
      "preprocesing_data/file_data_8.pickle  sample  62639  obses  8897\n",
      "preprocesing_data/file_data_8.pickle  sample_real  62639  obses_real  8897\n",
      "preprocesing_data/file_data_9.pickle  sample  67731  obses  8931\n",
      "preprocesing_data/file_data_9.pickle  sample_real  67731  obses_real  8931\n"
     ]
    },
    {
     "data": {
      "text/plain": [
       "{'samples': 988664, 'obses': 134328}"
      ]
     },
     "execution_count": 29,
     "metadata": {},
     "output_type": "execute_result"
    }
   ],
   "source": [
    "Lengs_data(dir_)"
   ]
  },
  {
   "cell_type": "code",
   "execution_count": 34,
   "metadata": {},
   "outputs": [],
   "source": [
    "\n",
    "import os \n",
    "class LuxDataset_NEW(Dataset):\n",
    "    \n",
    "    def Lengs_data(self,path_folder):\n",
    "        episodes = [path for path in Path(path_folder).glob('*data*.pickle') ] \n",
    "        d={'samples':0, 'obses':0}\n",
    "        for i in episodes:\n",
    "            with open(i, 'rb') as f:\n",
    "                a = pickle.load(f) \n",
    "                d['samples']+=a[\"samples\"]\n",
    "                d['obses']+=a[\"obses\"]       \n",
    "        return d\n",
    "    \n",
    "    \n",
    "    \n",
    "    def prepear_temp(self): # temorary folder \n",
    "        episodes = [path for path in (self.path_streem_data  ).glob('*data*.pickle') ]\n",
    "        lens_data=0\n",
    "        rr=0\n",
    "        for filepath in tqdm(episodes):\n",
    "            pic_0={} \n",
    "            with open(filepath, 'rb') as f:\n",
    "                pickle.load(f)\n",
    "                while True:    \n",
    "                    try:\n",
    "                        pic_0.update( pickle.load(f))\n",
    "                    except:\n",
    "                        break\n",
    "            with open(self.path_streem_data/\"temp\"/filepath.name, \"wb\") as f:\n",
    "                pickle.dump(pic_0, f) \n",
    "   \n",
    "    def read_picl(self,path):# read pickle\n",
    "        pic_0={} \n",
    "        with open(path, 'rb') as f:\n",
    "            \n",
    "            while True:    \n",
    "                try:\n",
    "                    pic_0.update( pickle.load(f))\n",
    "\n",
    "\n",
    "                except:\n",
    "                    break\n",
    "        return pic_0    \n",
    "    \n",
    "    \n",
    "    def write (self,pic_0):\n",
    "        def write_data (data , path):\n",
    "            with open(path, \"ab\") as f:\n",
    "                pickle.dump(data, f) \n",
    "\n",
    "        import numpy as np\n",
    "        shufle=np.array(list(pic_0.keys()))\n",
    "        np.random.shuffle(shufle)\n",
    "        vfunc = np.vectorize(lambda x:int(x))\n",
    "        lin=vfunc(np.linspace(0, len(pic_0),14))\n",
    "\n",
    "        for i , v in enumerate(lin[:-1]):\n",
    "            pc_temp={}\n",
    "            for j in shufle[v:lin[i+1]]:\n",
    "                pc_temp[j]=pic_0[j]\n",
    "            write_data(pc_temp , self.path_streem_data / \"temp\" / (\"data\" +self.pref[self.shift_ind]+\"_\"+str(i)+\".pickle\"))\n",
    "    \n",
    "    def sufle_sample(self):\n",
    "        shafle=[]\n",
    "        for i in self.data:\n",
    "          \n",
    "            shafle+=self.data[i][\"samples\"]\n",
    "        np.random.shuffle(shafle)    \n",
    "        self.shufle=shafle\n",
    "       \n",
    "    \n",
    "    def Update_data(self):\n",
    "        if len(self.episodes)!=0:\n",
    "           # print(self.episodes)\n",
    "            data=self.read_picl(self.episodes[0])\n",
    "            \n",
    "            self.write(data)\n",
    "            self.data=data\n",
    "            os.remove(self.episodes[0])\n",
    "            self.episodes=self.episodes[1:]\n",
    "           # print(self.episodes)\n",
    "            self.sufle_sample()\n",
    "        else:\n",
    "            self.shift_ind=(1+self.shift_ind)%2\n",
    "            self.episodes = [path for path in (self.path_streem_data/\"temp\").glob('data*.pickle') ]\n",
    "            self.Update_data()\n",
    "        \n",
    "    \n",
    "    def __init__(self, path_streem_data):\n",
    "        \n",
    "        self.path_streem_data=Path(path_streem_data)\n",
    "        self.len_data= self.Lengs_data(path_streem_data)\n",
    "        try :\n",
    "            import shutil\n",
    "\n",
    "            shutil.rmtree(self.path_streem_data/\"temp\")\n",
    "            \n",
    "        except:\n",
    "            pass\n",
    "        os.mkdir(self.path_streem_data/\"temp\")\n",
    "        self.prepear_temp()\n",
    "        self.episodes = [path for path in (self.path_streem_data/\"temp\").glob('*data*.pickle') ]\n",
    "        self.cheredovat_ind=0\n",
    "        self.pref=[\"A\",\"\"]\n",
    "        \n",
    "        self.shift_ind=0\n",
    "        \n",
    "        self.shift_ind_data=0\n",
    "        self.Update_data()\n",
    "        self.test_indek_kepper=[]\n",
    "        \n",
    "        \n",
    "    def __len__(self):\n",
    "        return self.len_data[\"samples\"]\n",
    "\n",
    "    def __getitem__(self, idx):\n",
    "        \n",
    "        if idx == len(self):\n",
    "            raise IndexError\n",
    "        if (idx>=len(self.shufle)+self.shift_ind_data) or idx<self.shift_ind_data:\n",
    "            self.shift_ind_data=idx\n",
    "          \n",
    "            self.Update_data()\n",
    "    \n",
    "            \n",
    "        \n",
    "        sample = self.shufle[idx-self.shift_ind_data]\n",
    "        state  = self.data[sample[0]][\"obses\"]\n",
    "        \n",
    "        state[:2, sample[2], sample[3]] = sample[4]\n",
    "       # [('29239603_358', 'u_17', 9, 5, (1, 0.96), 2)]\n",
    "        \n",
    "        return state[:20], sample[5]"
   ]
  },
  {
   "cell_type": "code",
   "execution_count": 66,
   "metadata": {},
   "outputs": [],
   "source": [
    "class data_loder_my():\n",
    "    def __init__(self,dataset,bach_size):\n",
    "        self.dataset=dataset\n",
    "        self.bach_size=bach_size\n",
    "    def __len__(self):\n",
    "        return len( self.dataset)//self.bach_size\n",
    "    def __getitem__(self, items):\n",
    "        bach_x=[]\n",
    "        bach_y=[]\n",
    "        for i in range(self.bach_size):\n",
    "            x,y=self.dataset[items*self.bach_size +i]\n",
    "            bach_x.append(x)\n",
    "            bach_y.append(y)\n",
    "        return torch.from_numpy(np.array(bach_x)), torch.from_numpy(np.array(bach_y))   \n",
    "    \n",
    "    "
   ]
  },
  {
   "cell_type": "code",
   "execution_count": 69,
   "metadata": {},
   "outputs": [],
   "source": [
    "class LuxDataset_NEW_VAL(Dataset):\n",
    "    \n",
    "    def Lengs_data(self,path_folder):\n",
    "        a=0\n",
    "        with open(path_folder, 'rb') as f:\n",
    "            a = pickle.load(f) \n",
    "                \n",
    "        return a\n",
    "\n",
    "    def read_picl(self,path):# read pickle\n",
    "        pic_0={} \n",
    "        with open(path, 'rb') as f:\n",
    "            pickle.load(f)\n",
    "            while True:    \n",
    "                try:\n",
    "                    pic_0.update( pickle.load(f))\n",
    "\n",
    "\n",
    "                except:\n",
    "                    break\n",
    "        return pic_0    \n",
    "    \n",
    "    def sufle_sample(self):\n",
    "        shafle=[]\n",
    "        for i in self.data:\n",
    "            shafle+=self.data[i][\"samples\"]\n",
    "    \n",
    "        self.shufle=shafle\n",
    "        \n",
    "    def __init__(self, path_streem_data):\n",
    "        self.len_data=self.Lengs_data(path_streem_data)\n",
    "        self.data=self.read_picl(path_streem_data)\n",
    "        self.sufle_sample()\n",
    "        \n",
    "        \n",
    "        \n",
    "        \n",
    "    def __len__(self):\n",
    "        return self.len_data[\"samples\"]\n",
    "\n",
    "    def __getitem__(self, idx):\n",
    "        \n",
    "        if idx == len(self):\n",
    "            raise IndexError\n",
    "       \n",
    "        sample = self.shufle[idx]\n",
    "        state  = self.data[sample[0]][\"obses\"]\n",
    "        \n",
    "        state[:2, sample[2], sample[3]] = sample[4]\n",
    "       # [('29239603_358', 'u_17', 9, 5, (1, 0.96), 2)]\n",
    "        \n",
    "        return state[:20], sample[5]"
   ]
  },
  {
   "cell_type": "code",
   "execution_count": 35,
   "metadata": {},
   "outputs": [
    {
     "data": {
      "application/vnd.jupyter.widget-view+json": {
       "model_id": "47199db739e740d391b6a5d1d9fe4bb7",
       "version_major": 2,
       "version_minor": 0
      },
      "text/plain": [
       "  0%|          | 0/15 [00:00<?, ?it/s]"
      ]
     },
     "metadata": {},
     "output_type": "display_data"
    },
    {
     "name": "stdout",
     "output_type": "stream",
     "text": [
      "[PosixPath('preprocesing_data/temp/file_data_1.pickle'), PosixPath('preprocesing_data/temp/file_data_10.pickle'), PosixPath('preprocesing_data/temp/file_data_11.pickle'), PosixPath('preprocesing_data/temp/file_data_12.pickle'), PosixPath('preprocesing_data/temp/file_data_13.pickle'), PosixPath('preprocesing_data/temp/file_data_14.pickle'), PosixPath('preprocesing_data/temp/file_data_2.pickle'), PosixPath('preprocesing_data/temp/file_data_3.pickle'), PosixPath('preprocesing_data/temp/file_data_4.pickle'), PosixPath('preprocesing_data/temp/file_data_5.pickle'), PosixPath('preprocesing_data/temp/file_data_6.pickle'), PosixPath('preprocesing_data/temp/file_data_7.pickle'), PosixPath('preprocesing_data/temp/file_data_8.pickle'), PosixPath('preprocesing_data/temp/file_data_9.pickle')]\n"
     ]
    }
   ],
   "source": [
    "dataset_test= LuxDataset_NEW(Path(dir_) )"
   ]
  },
  {
   "cell_type": "code",
   "execution_count": 76,
   "metadata": {},
   "outputs": [],
   "source": [
    "obs,sample=dataset_test[10]"
   ]
  },
  {
   "cell_type": "code",
   "execution_count": 82,
   "metadata": {},
   "outputs": [
    {
     "data": {
      "text/plain": [
       "[('28414706_245', 'u_47', 9, 11, (1, 1.0), 1),\n",
       " ('28412606_67', 'u_19', 30, 24, (1, 1.0), 1),\n",
       " ('28413179_182', 'u_31', 20, 14, (1, 0.0), 1),\n",
       " ('28414324_174', 'u_75', 12, 15, (1, 0.0), 2),\n",
       " ('28413372_142', 'u_47', 12, 4, (1, 0.6), 2),\n",
       " ('28414324_29', 'u_6', 9, 8, (1, 1.0), 4),\n",
       " ('28415088_133', 'u_3', 11, 11, (1, 0.0), 2),\n",
       " ('28411641_202', 'u_39', 13, 5, (1, 0.0), 3),\n",
       " ('28412035_281', 'u_70', 11, 10, (1, 0.0), 0),\n",
       " ('28409735_50', 'u_11', 7, 16, (1, 1.0), 4)]"
      ]
     },
     "execution_count": 82,
     "metadata": {},
     "output_type": "execute_result"
    }
   ],
   "source": [
    "dataset_test.shufle[:10]"
   ]
  },
  {
   "cell_type": "code",
   "execution_count": 94,
   "metadata": {},
   "outputs": [
    {
     "data": {
      "text/plain": [
       "<AxesSubplot:>"
      ]
     },
     "execution_count": 94,
     "metadata": {},
     "output_type": "execute_result"
    },
    {
     "data": {
      "image/png": "[encoded data removed]",
      "text/plain": [
       "<Figure size 432x288 with 2 Axes>"
      ]
     },
     "metadata": {
      "needs_background": "light"
     },
     "output_type": "display_data"
    }
   ],
   "source": [
    "sns.heatmap(obs[12])"
   ]
  },
  {
   "cell_type": "code",
   "execution_count": 64,
   "metadata": {},
   "outputs": [],
   "source": [
    "# Neural Network for Lux AI\n",
    "class BasicConv2d(nn.Module):\n",
    "    def __init__(self, input_dim, output_dim, kernel_size, bn):\n",
    "        super().__init__()\n",
    "        self.conv = nn.Conv2d(\n",
    "            input_dim, output_dim, \n",
    "            kernel_size=kernel_size, \n",
    "            padding=(kernel_size[0] // 2, kernel_size[1] // 2)\n",
    "        )\n",
    "        self.bn = nn.BatchNorm2d(output_dim) if bn else None\n",
    "      \n",
    "\n",
    "    def forward(self, x):\n",
    "        h = self.conv(x)\n",
    "        h = self.bn(h) if self.bn is not None else h\n",
    "        \n",
    "        return h\n",
    "\n",
    "\n",
    "class LuxNet(nn.Module):\n",
    "    def __init__(self):\n",
    "        super().__init__()\n",
    "        layers, filters = 12, 32\n",
    "        self.conv0 = BasicConv2d(20, filters, (3, 3), True)\n",
    "        self.blocks = nn.ModuleList([BasicConv2d(filters, filters, (3, 3), True) for _ in range(layers)])\n",
    "        \n",
    "        self.drop = nn.Dropout(p=0.2)\n",
    "        self.head_p = nn.Linear(filters, 5, bias=False)\n",
    "\n",
    "    def forward(self, x):\n",
    "        h = F.relu_(self.conv0(x))\n",
    "        for block in self.blocks:\n",
    "            h = F.relu_(h + block(h))\n",
    "        h_head = (h * x[:,:1]).view(h.size(0), h.size(1), -1).sum(-1)\n",
    "        h_head=self.drop(h_head)\n",
    "        p = self.head_p(h_head)\n",
    "        return p"
   ]
  },
  {
   "cell_type": "code",
   "execution_count": 73,
   "metadata": {},
   "outputs": [
    {
     "data": {
      "application/vnd.jupyter.widget-view+json": {
       "model_id": "c62b0921d1684b76866f7b24eb56429d",
       "version_major": 2,
       "version_minor": 0
      },
      "text/plain": [
       "  0%|          | 0/14 [00:00<?, ?it/s]"
      ]
     },
     "metadata": {},
     "output_type": "display_data"
    },
    {
     "name": "stdout",
     "output_type": "stream",
     "text": [
      "[PosixPath('preprocesing_data/temp/file_data_10.pickle'), PosixPath('preprocesing_data/temp/file_data_11.pickle'), PosixPath('preprocesing_data/temp/file_data_12.pickle'), PosixPath('preprocesing_data/temp/file_data_13.pickle'), PosixPath('preprocesing_data/temp/file_data_14.pickle'), PosixPath('preprocesing_data/temp/file_data_2.pickle'), PosixPath('preprocesing_data/temp/file_data_3.pickle'), PosixPath('preprocesing_data/temp/file_data_4.pickle'), PosixPath('preprocesing_data/temp/file_data_5.pickle'), PosixPath('preprocesing_data/temp/file_data_6.pickle'), PosixPath('preprocesing_data/temp/file_data_7.pickle'), PosixPath('preprocesing_data/temp/file_data_8.pickle'), PosixPath('preprocesing_data/temp/file_data_9.pickle')]\n"
     ]
    }
   ],
   "source": [
    "model = LuxNet()\n",
    "\n",
    "\n",
    "batch_size = 64\n",
    "\n",
    "train_loader=data_loder_my(LuxDataset_NEW(Path(dir_) ),batch_size)\n",
    "\n",
    "val_loader = DataLoader(\n",
    "    LuxDataset_NEW_VAL(Path(\"preprocesing_data/validate/file_data_0.pickle\")), \n",
    "    batch_size=batch_size, \n",
    "    shuffle=False, \n",
    "    num_workers=1\n",
    ")\n",
    "dataloaders_dict = {\"train\": train_loader, \"val\": val_loader}\n",
    "criterion = nn.CrossEntropyLoss()\n",
    "optimizer = torch.optim.AdamW(model.parameters(), lr=1e-3)"
   ]
  },
  {
   "cell_type": "code",
   "execution_count": 74,
   "metadata": {},
   "outputs": [],
   "source": [
    "def train_model(model, dataloaders_dict, criterion, optimizer, num_epochs):\n",
    "    best_acc = 0.0\n",
    "\n",
    "    for epoch in range(num_epochs):\n",
    "        model.cuda()\n",
    "        \n",
    "        for phase in ['train', 'val']:\n",
    "            if phase == 'train':\n",
    "                model.train()\n",
    "            else:\n",
    "                model.eval()\n",
    "                \n",
    "            epoch_loss = 0.0\n",
    "            epoch_acc = 0\n",
    "            \n",
    "            dataloader = dataloaders_dict[phase]\n",
    "            for item in tqdm(dataloader, leave=False):\n",
    "                states = item[0].cuda().float()\n",
    "                actions = item[1].cuda().long()\n",
    "               \n",
    "                optimizer.zero_grad()\n",
    "                \n",
    "                with torch.set_grad_enabled(phase == 'train'):\n",
    "                    policy = model(states)\n",
    "                    loss = criterion(policy, actions)\n",
    "                    _, preds = torch.max(policy, 1)\n",
    "\n",
    "                    if phase == 'train':\n",
    "                        loss.backward()\n",
    "                        optimizer.step()\n",
    "\n",
    "                    epoch_loss += loss.item() * len(policy)\n",
    "                    epoch_acc += torch.sum(preds == actions.data)\n",
    "\n",
    "            data_size = len(dataloader.dataset)\n",
    "            epoch_loss = epoch_loss / data_size\n",
    "            epoch_acc = epoch_acc.double() / data_size\n",
    "\n",
    "            print(f'Epoch {epoch + 1}/{num_epochs} | {phase:^5} | Loss: {epoch_loss:.4f} | Acc: {epoch_acc:.4f}')\n",
    "        \n",
    "        if epoch_acc > best_acc:\n",
    "            traced = torch.jit.trace(model.cpu(), torch.rand(1, 20, 32, 32))\n",
    "            traced.save('model_drop.pth')\n",
    "            best_acc = epoch_acc"
   ]
  },
  {
   "cell_type": "code",
   "execution_count": 206,
   "metadata": {},
   "outputs": [
    {
     "data": {
      "text/plain": [
       "172179"
      ]
     },
     "execution_count": 206,
     "metadata": {},
     "output_type": "execute_result"
    }
   ],
   "source": [
    "len(train_loader.dataset)"
   ]
  },
  {
   "cell_type": "code",
   "execution_count": 73,
   "metadata": {},
   "outputs": [
    {
     "data": {
      "text/plain": [
       "172179"
      ]
     },
     "execution_count": 73,
     "metadata": {},
     "output_type": "execute_result"
    }
   ],
   "source": [
    "len(train_loader.dataset)"
   ]
  },
  {
   "cell_type": "code",
   "execution_count": 75,
   "metadata": {},
   "outputs": [
    {
     "data": {
      "application/vnd.jupyter.widget-view+json": {
       "model_id": "3d46e34197f54167853a5f833a78f7d1",
       "version_major": 2,
       "version_minor": 0
      },
      "text/plain": [
       "  0%|          | 0/14424 [00:00<?, ?it/s]"
      ]
     },
     "metadata": {},
     "output_type": "display_data"
    },
    {
     "name": "stdout",
     "output_type": "stream",
     "text": [
      "[PosixPath('preprocesing_data/temp/file_data_11.pickle'), PosixPath('preprocesing_data/temp/file_data_12.pickle'), PosixPath('preprocesing_data/temp/file_data_13.pickle'), PosixPath('preprocesing_data/temp/file_data_14.pickle'), PosixPath('preprocesing_data/temp/file_data_2.pickle'), PosixPath('preprocesing_data/temp/file_data_3.pickle'), PosixPath('preprocesing_data/temp/file_data_4.pickle'), PosixPath('preprocesing_data/temp/file_data_5.pickle'), PosixPath('preprocesing_data/temp/file_data_6.pickle'), PosixPath('preprocesing_data/temp/file_data_7.pickle'), PosixPath('preprocesing_data/temp/file_data_8.pickle'), PosixPath('preprocesing_data/temp/file_data_9.pickle')]\n",
      "[PosixPath('preprocesing_data/temp/file_data_12.pickle'), PosixPath('preprocesing_data/temp/file_data_13.pickle'), PosixPath('preprocesing_data/temp/file_data_14.pickle'), PosixPath('preprocesing_data/temp/file_data_2.pickle'), PosixPath('preprocesing_data/temp/file_data_3.pickle'), PosixPath('preprocesing_data/temp/file_data_4.pickle'), PosixPath('preprocesing_data/temp/file_data_5.pickle'), PosixPath('preprocesing_data/temp/file_data_6.pickle'), PosixPath('preprocesing_data/temp/file_data_7.pickle'), PosixPath('preprocesing_data/temp/file_data_8.pickle'), PosixPath('preprocesing_data/temp/file_data_9.pickle')]\n",
      "[PosixPath('preprocesing_data/temp/file_data_13.pickle'), PosixPath('preprocesing_data/temp/file_data_14.pickle'), PosixPath('preprocesing_data/temp/file_data_2.pickle'), PosixPath('preprocesing_data/temp/file_data_3.pickle'), PosixPath('preprocesing_data/temp/file_data_4.pickle'), PosixPath('preprocesing_data/temp/file_data_5.pickle'), PosixPath('preprocesing_data/temp/file_data_6.pickle'), PosixPath('preprocesing_data/temp/file_data_7.pickle'), PosixPath('preprocesing_data/temp/file_data_8.pickle'), PosixPath('preprocesing_data/temp/file_data_9.pickle')]\n",
      "[PosixPath('preprocesing_data/temp/file_data_14.pickle'), PosixPath('preprocesing_data/temp/file_data_2.pickle'), PosixPath('preprocesing_data/temp/file_data_3.pickle'), PosixPath('preprocesing_data/temp/file_data_4.pickle'), PosixPath('preprocesing_data/temp/file_data_5.pickle'), PosixPath('preprocesing_data/temp/file_data_6.pickle'), PosixPath('preprocesing_data/temp/file_data_7.pickle'), PosixPath('preprocesing_data/temp/file_data_8.pickle'), PosixPath('preprocesing_data/temp/file_data_9.pickle')]\n",
      "[PosixPath('preprocesing_data/temp/file_data_2.pickle'), PosixPath('preprocesing_data/temp/file_data_3.pickle'), PosixPath('preprocesing_data/temp/file_data_4.pickle'), PosixPath('preprocesing_data/temp/file_data_5.pickle'), PosixPath('preprocesing_data/temp/file_data_6.pickle'), PosixPath('preprocesing_data/temp/file_data_7.pickle'), PosixPath('preprocesing_data/temp/file_data_8.pickle'), PosixPath('preprocesing_data/temp/file_data_9.pickle')]\n",
      "[PosixPath('preprocesing_data/temp/file_data_3.pickle'), PosixPath('preprocesing_data/temp/file_data_4.pickle'), PosixPath('preprocesing_data/temp/file_data_5.pickle'), PosixPath('preprocesing_data/temp/file_data_6.pickle'), PosixPath('preprocesing_data/temp/file_data_7.pickle'), PosixPath('preprocesing_data/temp/file_data_8.pickle'), PosixPath('preprocesing_data/temp/file_data_9.pickle')]\n",
      "[PosixPath('preprocesing_data/temp/file_data_4.pickle'), PosixPath('preprocesing_data/temp/file_data_5.pickle'), PosixPath('preprocesing_data/temp/file_data_6.pickle'), PosixPath('preprocesing_data/temp/file_data_7.pickle'), PosixPath('preprocesing_data/temp/file_data_8.pickle'), PosixPath('preprocesing_data/temp/file_data_9.pickle')]\n",
      "[PosixPath('preprocesing_data/temp/file_data_5.pickle'), PosixPath('preprocesing_data/temp/file_data_6.pickle'), PosixPath('preprocesing_data/temp/file_data_7.pickle'), PosixPath('preprocesing_data/temp/file_data_8.pickle'), PosixPath('preprocesing_data/temp/file_data_9.pickle')]\n",
      "[PosixPath('preprocesing_data/temp/file_data_6.pickle'), PosixPath('preprocesing_data/temp/file_data_7.pickle'), PosixPath('preprocesing_data/temp/file_data_8.pickle'), PosixPath('preprocesing_data/temp/file_data_9.pickle')]\n",
      "[PosixPath('preprocesing_data/temp/file_data_7.pickle'), PosixPath('preprocesing_data/temp/file_data_8.pickle'), PosixPath('preprocesing_data/temp/file_data_9.pickle')]\n",
      "[PosixPath('preprocesing_data/temp/file_data_8.pickle'), PosixPath('preprocesing_data/temp/file_data_9.pickle')]\n",
      "[PosixPath('preprocesing_data/temp/file_data_9.pickle')]\n",
      "[]\n",
      "Epoch 1/5 | train | Loss: 1.4163 | Acc: 0.3859\n"
     ]
    },
    {
     "data": {
      "application/vnd.jupyter.widget-view+json": {
       "model_id": "630d246f1e534c2faceeb272e477e304",
       "version_major": 2,
       "version_minor": 0
      },
      "text/plain": [
       "  0%|          | 0/1024 [00:00<?, ?it/s]"
      ]
     },
     "metadata": {},
     "output_type": "display_data"
    },
    {
     "name": "stdout",
     "output_type": "stream",
     "text": [
      "Epoch 1/5 |  val  | Loss: 1.4665 | Acc: 0.3555\n"
     ]
    },
    {
     "data": {
      "application/vnd.jupyter.widget-view+json": {
       "model_id": "223ec0c31a4c42b7b96d5cf725447504",
       "version_major": 2,
       "version_minor": 0
      },
      "text/plain": [
       "  0%|          | 0/14424 [00:00<?, ?it/s]"
      ]
     },
     "metadata": {},
     "output_type": "display_data"
    },
    {
     "name": "stdout",
     "output_type": "stream",
     "text": [
      "[PosixPath('preprocesing_data/temp/dataA_1.pickle'), PosixPath('preprocesing_data/temp/dataA_10.pickle'), PosixPath('preprocesing_data/temp/dataA_11.pickle'), PosixPath('preprocesing_data/temp/dataA_12.pickle'), PosixPath('preprocesing_data/temp/dataA_2.pickle'), PosixPath('preprocesing_data/temp/dataA_3.pickle'), PosixPath('preprocesing_data/temp/dataA_4.pickle'), PosixPath('preprocesing_data/temp/dataA_5.pickle'), PosixPath('preprocesing_data/temp/dataA_6.pickle'), PosixPath('preprocesing_data/temp/dataA_7.pickle'), PosixPath('preprocesing_data/temp/dataA_8.pickle'), PosixPath('preprocesing_data/temp/dataA_9.pickle')]\n",
      "[PosixPath('preprocesing_data/temp/dataA_10.pickle'), PosixPath('preprocesing_data/temp/dataA_11.pickle'), PosixPath('preprocesing_data/temp/dataA_12.pickle'), PosixPath('preprocesing_data/temp/dataA_2.pickle'), PosixPath('preprocesing_data/temp/dataA_3.pickle'), PosixPath('preprocesing_data/temp/dataA_4.pickle'), PosixPath('preprocesing_data/temp/dataA_5.pickle'), PosixPath('preprocesing_data/temp/dataA_6.pickle'), PosixPath('preprocesing_data/temp/dataA_7.pickle'), PosixPath('preprocesing_data/temp/dataA_8.pickle'), PosixPath('preprocesing_data/temp/dataA_9.pickle')]\n",
      "[PosixPath('preprocesing_data/temp/dataA_11.pickle'), PosixPath('preprocesing_data/temp/dataA_12.pickle'), PosixPath('preprocesing_data/temp/dataA_2.pickle'), PosixPath('preprocesing_data/temp/dataA_3.pickle'), PosixPath('preprocesing_data/temp/dataA_4.pickle'), PosixPath('preprocesing_data/temp/dataA_5.pickle'), PosixPath('preprocesing_data/temp/dataA_6.pickle'), PosixPath('preprocesing_data/temp/dataA_7.pickle'), PosixPath('preprocesing_data/temp/dataA_8.pickle'), PosixPath('preprocesing_data/temp/dataA_9.pickle')]\n",
      "[PosixPath('preprocesing_data/temp/dataA_12.pickle'), PosixPath('preprocesing_data/temp/dataA_2.pickle'), PosixPath('preprocesing_data/temp/dataA_3.pickle'), PosixPath('preprocesing_data/temp/dataA_4.pickle'), PosixPath('preprocesing_data/temp/dataA_5.pickle'), PosixPath('preprocesing_data/temp/dataA_6.pickle'), PosixPath('preprocesing_data/temp/dataA_7.pickle'), PosixPath('preprocesing_data/temp/dataA_8.pickle'), PosixPath('preprocesing_data/temp/dataA_9.pickle')]\n",
      "[PosixPath('preprocesing_data/temp/dataA_2.pickle'), PosixPath('preprocesing_data/temp/dataA_3.pickle'), PosixPath('preprocesing_data/temp/dataA_4.pickle'), PosixPath('preprocesing_data/temp/dataA_5.pickle'), PosixPath('preprocesing_data/temp/dataA_6.pickle'), PosixPath('preprocesing_data/temp/dataA_7.pickle'), PosixPath('preprocesing_data/temp/dataA_8.pickle'), PosixPath('preprocesing_data/temp/dataA_9.pickle')]\n",
      "[PosixPath('preprocesing_data/temp/dataA_3.pickle'), PosixPath('preprocesing_data/temp/dataA_4.pickle'), PosixPath('preprocesing_data/temp/dataA_5.pickle'), PosixPath('preprocesing_data/temp/dataA_6.pickle'), PosixPath('preprocesing_data/temp/dataA_7.pickle'), PosixPath('preprocesing_data/temp/dataA_8.pickle'), PosixPath('preprocesing_data/temp/dataA_9.pickle')]\n",
      "[PosixPath('preprocesing_data/temp/dataA_4.pickle'), PosixPath('preprocesing_data/temp/dataA_5.pickle'), PosixPath('preprocesing_data/temp/dataA_6.pickle'), PosixPath('preprocesing_data/temp/dataA_7.pickle'), PosixPath('preprocesing_data/temp/dataA_8.pickle'), PosixPath('preprocesing_data/temp/dataA_9.pickle')]\n",
      "[PosixPath('preprocesing_data/temp/dataA_5.pickle'), PosixPath('preprocesing_data/temp/dataA_6.pickle'), PosixPath('preprocesing_data/temp/dataA_7.pickle'), PosixPath('preprocesing_data/temp/dataA_8.pickle'), PosixPath('preprocesing_data/temp/dataA_9.pickle')]\n",
      "[PosixPath('preprocesing_data/temp/dataA_6.pickle'), PosixPath('preprocesing_data/temp/dataA_7.pickle'), PosixPath('preprocesing_data/temp/dataA_8.pickle'), PosixPath('preprocesing_data/temp/dataA_9.pickle')]\n",
      "[PosixPath('preprocesing_data/temp/dataA_7.pickle'), PosixPath('preprocesing_data/temp/dataA_8.pickle'), PosixPath('preprocesing_data/temp/dataA_9.pickle')]\n",
      "[PosixPath('preprocesing_data/temp/dataA_8.pickle'), PosixPath('preprocesing_data/temp/dataA_9.pickle')]\n",
      "[PosixPath('preprocesing_data/temp/dataA_9.pickle')]\n",
      "[]\n",
      "Epoch 2/5 | train | Loss: 1.3607 | Acc: 0.4246\n"
     ]
    },
    {
     "data": {
      "application/vnd.jupyter.widget-view+json": {
       "model_id": "8fa696b2c3ea44a2869fce9d002868b3",
       "version_major": 2,
       "version_minor": 0
      },
      "text/plain": [
       "  0%|          | 0/1024 [00:00<?, ?it/s]"
      ]
     },
     "metadata": {},
     "output_type": "display_data"
    },
    {
     "name": "stdout",
     "output_type": "stream",
     "text": [
      "Epoch 2/5 |  val  | Loss: 1.4333 | Acc: 0.3706\n"
     ]
    },
    {
     "data": {
      "application/vnd.jupyter.widget-view+json": {
       "model_id": "e384944d7f18420db3230dc8fcd34edc",
       "version_major": 2,
       "version_minor": 0
      },
      "text/plain": [
       "  0%|          | 0/14424 [00:00<?, ?it/s]"
      ]
     },
     "metadata": {},
     "output_type": "display_data"
    },
    {
     "name": "stdout",
     "output_type": "stream",
     "text": [
      "[PosixPath('preprocesing_data/temp/data_1.pickle'), PosixPath('preprocesing_data/temp/data_10.pickle'), PosixPath('preprocesing_data/temp/data_11.pickle'), PosixPath('preprocesing_data/temp/data_12.pickle'), PosixPath('preprocesing_data/temp/data_2.pickle'), PosixPath('preprocesing_data/temp/data_3.pickle'), PosixPath('preprocesing_data/temp/data_4.pickle'), PosixPath('preprocesing_data/temp/data_5.pickle'), PosixPath('preprocesing_data/temp/data_6.pickle'), PosixPath('preprocesing_data/temp/data_7.pickle'), PosixPath('preprocesing_data/temp/data_8.pickle'), PosixPath('preprocesing_data/temp/data_9.pickle')]\n",
      "[PosixPath('preprocesing_data/temp/data_10.pickle'), PosixPath('preprocesing_data/temp/data_11.pickle'), PosixPath('preprocesing_data/temp/data_12.pickle'), PosixPath('preprocesing_data/temp/data_2.pickle'), PosixPath('preprocesing_data/temp/data_3.pickle'), PosixPath('preprocesing_data/temp/data_4.pickle'), PosixPath('preprocesing_data/temp/data_5.pickle'), PosixPath('preprocesing_data/temp/data_6.pickle'), PosixPath('preprocesing_data/temp/data_7.pickle'), PosixPath('preprocesing_data/temp/data_8.pickle'), PosixPath('preprocesing_data/temp/data_9.pickle')]\n",
      "[PosixPath('preprocesing_data/temp/data_11.pickle'), PosixPath('preprocesing_data/temp/data_12.pickle'), PosixPath('preprocesing_data/temp/data_2.pickle'), PosixPath('preprocesing_data/temp/data_3.pickle'), PosixPath('preprocesing_data/temp/data_4.pickle'), PosixPath('preprocesing_data/temp/data_5.pickle'), PosixPath('preprocesing_data/temp/data_6.pickle'), PosixPath('preprocesing_data/temp/data_7.pickle'), PosixPath('preprocesing_data/temp/data_8.pickle'), PosixPath('preprocesing_data/temp/data_9.pickle')]\n",
      "[PosixPath('preprocesing_data/temp/data_12.pickle'), PosixPath('preprocesing_data/temp/data_2.pickle'), PosixPath('preprocesing_data/temp/data_3.pickle'), PosixPath('preprocesing_data/temp/data_4.pickle'), PosixPath('preprocesing_data/temp/data_5.pickle'), PosixPath('preprocesing_data/temp/data_6.pickle'), PosixPath('preprocesing_data/temp/data_7.pickle'), PosixPath('preprocesing_data/temp/data_8.pickle'), PosixPath('preprocesing_data/temp/data_9.pickle')]\n",
      "[PosixPath('preprocesing_data/temp/data_2.pickle'), PosixPath('preprocesing_data/temp/data_3.pickle'), PosixPath('preprocesing_data/temp/data_4.pickle'), PosixPath('preprocesing_data/temp/data_5.pickle'), PosixPath('preprocesing_data/temp/data_6.pickle'), PosixPath('preprocesing_data/temp/data_7.pickle'), PosixPath('preprocesing_data/temp/data_8.pickle'), PosixPath('preprocesing_data/temp/data_9.pickle')]\n",
      "[PosixPath('preprocesing_data/temp/data_3.pickle'), PosixPath('preprocesing_data/temp/data_4.pickle'), PosixPath('preprocesing_data/temp/data_5.pickle'), PosixPath('preprocesing_data/temp/data_6.pickle'), PosixPath('preprocesing_data/temp/data_7.pickle'), PosixPath('preprocesing_data/temp/data_8.pickle'), PosixPath('preprocesing_data/temp/data_9.pickle')]\n",
      "[PosixPath('preprocesing_data/temp/data_4.pickle'), PosixPath('preprocesing_data/temp/data_5.pickle'), PosixPath('preprocesing_data/temp/data_6.pickle'), PosixPath('preprocesing_data/temp/data_7.pickle'), PosixPath('preprocesing_data/temp/data_8.pickle'), PosixPath('preprocesing_data/temp/data_9.pickle')]\n",
      "[PosixPath('preprocesing_data/temp/data_5.pickle'), PosixPath('preprocesing_data/temp/data_6.pickle'), PosixPath('preprocesing_data/temp/data_7.pickle'), PosixPath('preprocesing_data/temp/data_8.pickle'), PosixPath('preprocesing_data/temp/data_9.pickle')]\n",
      "[PosixPath('preprocesing_data/temp/data_6.pickle'), PosixPath('preprocesing_data/temp/data_7.pickle'), PosixPath('preprocesing_data/temp/data_8.pickle'), PosixPath('preprocesing_data/temp/data_9.pickle')]\n",
      "[PosixPath('preprocesing_data/temp/data_7.pickle'), PosixPath('preprocesing_data/temp/data_8.pickle'), PosixPath('preprocesing_data/temp/data_9.pickle')]\n",
      "[PosixPath('preprocesing_data/temp/data_8.pickle'), PosixPath('preprocesing_data/temp/data_9.pickle')]\n",
      "[PosixPath('preprocesing_data/temp/data_9.pickle')]\n",
      "[]\n",
      "Epoch 3/5 | train | Loss: 1.3400 | Acc: 0.4350\n"
     ]
    },
    {
     "data": {
      "application/vnd.jupyter.widget-view+json": {
       "model_id": "addde469714d494f816085c4af35d377",
       "version_major": 2,
       "version_minor": 0
      },
      "text/plain": [
       "  0%|          | 0/1024 [00:00<?, ?it/s]"
      ]
     },
     "metadata": {},
     "output_type": "display_data"
    },
    {
     "name": "stdout",
     "output_type": "stream",
     "text": [
      "Epoch 3/5 |  val  | Loss: 1.4225 | Acc: 0.3721\n"
     ]
    },
    {
     "data": {
      "application/vnd.jupyter.widget-view+json": {
       "model_id": "4216a829ed654e55ab12881d2ef0211c",
       "version_major": 2,
       "version_minor": 0
      },
      "text/plain": [
       "  0%|          | 0/14424 [00:00<?, ?it/s]"
      ]
     },
     "metadata": {},
     "output_type": "display_data"
    },
    {
     "name": "stdout",
     "output_type": "stream",
     "text": [
      "[PosixPath('preprocesing_data/temp/dataA_1.pickle'), PosixPath('preprocesing_data/temp/dataA_10.pickle'), PosixPath('preprocesing_data/temp/dataA_11.pickle'), PosixPath('preprocesing_data/temp/dataA_12.pickle'), PosixPath('preprocesing_data/temp/dataA_2.pickle'), PosixPath('preprocesing_data/temp/dataA_3.pickle'), PosixPath('preprocesing_data/temp/dataA_4.pickle'), PosixPath('preprocesing_data/temp/dataA_5.pickle'), PosixPath('preprocesing_data/temp/dataA_6.pickle'), PosixPath('preprocesing_data/temp/dataA_7.pickle'), PosixPath('preprocesing_data/temp/dataA_8.pickle'), PosixPath('preprocesing_data/temp/dataA_9.pickle')]\n",
      "[PosixPath('preprocesing_data/temp/dataA_10.pickle'), PosixPath('preprocesing_data/temp/dataA_11.pickle'), PosixPath('preprocesing_data/temp/dataA_12.pickle'), PosixPath('preprocesing_data/temp/dataA_2.pickle'), PosixPath('preprocesing_data/temp/dataA_3.pickle'), PosixPath('preprocesing_data/temp/dataA_4.pickle'), PosixPath('preprocesing_data/temp/dataA_5.pickle'), PosixPath('preprocesing_data/temp/dataA_6.pickle'), PosixPath('preprocesing_data/temp/dataA_7.pickle'), PosixPath('preprocesing_data/temp/dataA_8.pickle'), PosixPath('preprocesing_data/temp/dataA_9.pickle')]\n",
      "[PosixPath('preprocesing_data/temp/dataA_11.pickle'), PosixPath('preprocesing_data/temp/dataA_12.pickle'), PosixPath('preprocesing_data/temp/dataA_2.pickle'), PosixPath('preprocesing_data/temp/dataA_3.pickle'), PosixPath('preprocesing_data/temp/dataA_4.pickle'), PosixPath('preprocesing_data/temp/dataA_5.pickle'), PosixPath('preprocesing_data/temp/dataA_6.pickle'), PosixPath('preprocesing_data/temp/dataA_7.pickle'), PosixPath('preprocesing_data/temp/dataA_8.pickle'), PosixPath('preprocesing_data/temp/dataA_9.pickle')]\n",
      "[PosixPath('preprocesing_data/temp/dataA_12.pickle'), PosixPath('preprocesing_data/temp/dataA_2.pickle'), PosixPath('preprocesing_data/temp/dataA_3.pickle'), PosixPath('preprocesing_data/temp/dataA_4.pickle'), PosixPath('preprocesing_data/temp/dataA_5.pickle'), PosixPath('preprocesing_data/temp/dataA_6.pickle'), PosixPath('preprocesing_data/temp/dataA_7.pickle'), PosixPath('preprocesing_data/temp/dataA_8.pickle'), PosixPath('preprocesing_data/temp/dataA_9.pickle')]\n",
      "[PosixPath('preprocesing_data/temp/dataA_2.pickle'), PosixPath('preprocesing_data/temp/dataA_3.pickle'), PosixPath('preprocesing_data/temp/dataA_4.pickle'), PosixPath('preprocesing_data/temp/dataA_5.pickle'), PosixPath('preprocesing_data/temp/dataA_6.pickle'), PosixPath('preprocesing_data/temp/dataA_7.pickle'), PosixPath('preprocesing_data/temp/dataA_8.pickle'), PosixPath('preprocesing_data/temp/dataA_9.pickle')]\n",
      "[PosixPath('preprocesing_data/temp/dataA_3.pickle'), PosixPath('preprocesing_data/temp/dataA_4.pickle'), PosixPath('preprocesing_data/temp/dataA_5.pickle'), PosixPath('preprocesing_data/temp/dataA_6.pickle'), PosixPath('preprocesing_data/temp/dataA_7.pickle'), PosixPath('preprocesing_data/temp/dataA_8.pickle'), PosixPath('preprocesing_data/temp/dataA_9.pickle')]\n",
      "[PosixPath('preprocesing_data/temp/dataA_4.pickle'), PosixPath('preprocesing_data/temp/dataA_5.pickle'), PosixPath('preprocesing_data/temp/dataA_6.pickle'), PosixPath('preprocesing_data/temp/dataA_7.pickle'), PosixPath('preprocesing_data/temp/dataA_8.pickle'), PosixPath('preprocesing_data/temp/dataA_9.pickle')]\n",
      "[PosixPath('preprocesing_data/temp/dataA_5.pickle'), PosixPath('preprocesing_data/temp/dataA_6.pickle'), PosixPath('preprocesing_data/temp/dataA_7.pickle'), PosixPath('preprocesing_data/temp/dataA_8.pickle'), PosixPath('preprocesing_data/temp/dataA_9.pickle')]\n",
      "[PosixPath('preprocesing_data/temp/dataA_6.pickle'), PosixPath('preprocesing_data/temp/dataA_7.pickle'), PosixPath('preprocesing_data/temp/dataA_8.pickle'), PosixPath('preprocesing_data/temp/dataA_9.pickle')]\n",
      "[PosixPath('preprocesing_data/temp/dataA_7.pickle'), PosixPath('preprocesing_data/temp/dataA_8.pickle'), PosixPath('preprocesing_data/temp/dataA_9.pickle')]\n",
      "[PosixPath('preprocesing_data/temp/dataA_8.pickle'), PosixPath('preprocesing_data/temp/dataA_9.pickle')]\n",
      "[PosixPath('preprocesing_data/temp/dataA_9.pickle')]\n",
      "[]\n",
      "Epoch 4/5 | train | Loss: 1.3284 | Acc: 0.4409\n"
     ]
    },
    {
     "data": {
      "application/vnd.jupyter.widget-view+json": {
       "model_id": "12acde9f8738471abbee6e6b5c67ca4c",
       "version_major": 2,
       "version_minor": 0
      },
      "text/plain": [
       "  0%|          | 0/1024 [00:00<?, ?it/s]"
      ]
     },
     "metadata": {},
     "output_type": "display_data"
    },
    {
     "name": "stdout",
     "output_type": "stream",
     "text": [
      "Epoch 4/5 |  val  | Loss: 1.4240 | Acc: 0.3705\n"
     ]
    },
    {
     "data": {
      "application/vnd.jupyter.widget-view+json": {
       "model_id": "80dcf446e922436ea57f1e27e78fdb8c",
       "version_major": 2,
       "version_minor": 0
      },
      "text/plain": [
       "  0%|          | 0/14424 [00:00<?, ?it/s]"
      ]
     },
     "metadata": {},
     "output_type": "display_data"
    },
    {
     "name": "stdout",
     "output_type": "stream",
     "text": [
      "[PosixPath('preprocesing_data/temp/data_1.pickle'), PosixPath('preprocesing_data/temp/data_10.pickle'), PosixPath('preprocesing_data/temp/data_11.pickle'), PosixPath('preprocesing_data/temp/data_12.pickle'), PosixPath('preprocesing_data/temp/data_2.pickle'), PosixPath('preprocesing_data/temp/data_3.pickle'), PosixPath('preprocesing_data/temp/data_4.pickle'), PosixPath('preprocesing_data/temp/data_5.pickle'), PosixPath('preprocesing_data/temp/data_6.pickle'), PosixPath('preprocesing_data/temp/data_7.pickle'), PosixPath('preprocesing_data/temp/data_8.pickle'), PosixPath('preprocesing_data/temp/data_9.pickle')]\n",
      "[PosixPath('preprocesing_data/temp/data_10.pickle'), PosixPath('preprocesing_data/temp/data_11.pickle'), PosixPath('preprocesing_data/temp/data_12.pickle'), PosixPath('preprocesing_data/temp/data_2.pickle'), PosixPath('preprocesing_data/temp/data_3.pickle'), PosixPath('preprocesing_data/temp/data_4.pickle'), PosixPath('preprocesing_data/temp/data_5.pickle'), PosixPath('preprocesing_data/temp/data_6.pickle'), PosixPath('preprocesing_data/temp/data_7.pickle'), PosixPath('preprocesing_data/temp/data_8.pickle'), PosixPath('preprocesing_data/temp/data_9.pickle')]\n",
      "[PosixPath('preprocesing_data/temp/data_11.pickle'), PosixPath('preprocesing_data/temp/data_12.pickle'), PosixPath('preprocesing_data/temp/data_2.pickle'), PosixPath('preprocesing_data/temp/data_3.pickle'), PosixPath('preprocesing_data/temp/data_4.pickle'), PosixPath('preprocesing_data/temp/data_5.pickle'), PosixPath('preprocesing_data/temp/data_6.pickle'), PosixPath('preprocesing_data/temp/data_7.pickle'), PosixPath('preprocesing_data/temp/data_8.pickle'), PosixPath('preprocesing_data/temp/data_9.pickle')]\n",
      "[PosixPath('preprocesing_data/temp/data_12.pickle'), PosixPath('preprocesing_data/temp/data_2.pickle'), PosixPath('preprocesing_data/temp/data_3.pickle'), PosixPath('preprocesing_data/temp/data_4.pickle'), PosixPath('preprocesing_data/temp/data_5.pickle'), PosixPath('preprocesing_data/temp/data_6.pickle'), PosixPath('preprocesing_data/temp/data_7.pickle'), PosixPath('preprocesing_data/temp/data_8.pickle'), PosixPath('preprocesing_data/temp/data_9.pickle')]\n",
      "[PosixPath('preprocesing_data/temp/data_2.pickle'), PosixPath('preprocesing_data/temp/data_3.pickle'), PosixPath('preprocesing_data/temp/data_4.pickle'), PosixPath('preprocesing_data/temp/data_5.pickle'), PosixPath('preprocesing_data/temp/data_6.pickle'), PosixPath('preprocesing_data/temp/data_7.pickle'), PosixPath('preprocesing_data/temp/data_8.pickle'), PosixPath('preprocesing_data/temp/data_9.pickle')]\n",
      "[PosixPath('preprocesing_data/temp/data_3.pickle'), PosixPath('preprocesing_data/temp/data_4.pickle'), PosixPath('preprocesing_data/temp/data_5.pickle'), PosixPath('preprocesing_data/temp/data_6.pickle'), PosixPath('preprocesing_data/temp/data_7.pickle'), PosixPath('preprocesing_data/temp/data_8.pickle'), PosixPath('preprocesing_data/temp/data_9.pickle')]\n",
      "[PosixPath('preprocesing_data/temp/data_4.pickle'), PosixPath('preprocesing_data/temp/data_5.pickle'), PosixPath('preprocesing_data/temp/data_6.pickle'), PosixPath('preprocesing_data/temp/data_7.pickle'), PosixPath('preprocesing_data/temp/data_8.pickle'), PosixPath('preprocesing_data/temp/data_9.pickle')]\n",
      "[PosixPath('preprocesing_data/temp/data_5.pickle'), PosixPath('preprocesing_data/temp/data_6.pickle'), PosixPath('preprocesing_data/temp/data_7.pickle'), PosixPath('preprocesing_data/temp/data_8.pickle'), PosixPath('preprocesing_data/temp/data_9.pickle')]\n",
      "[PosixPath('preprocesing_data/temp/data_6.pickle'), PosixPath('preprocesing_data/temp/data_7.pickle'), PosixPath('preprocesing_data/temp/data_8.pickle'), PosixPath('preprocesing_data/temp/data_9.pickle')]\n",
      "[PosixPath('preprocesing_data/temp/data_7.pickle'), PosixPath('preprocesing_data/temp/data_8.pickle'), PosixPath('preprocesing_data/temp/data_9.pickle')]\n",
      "[PosixPath('preprocesing_data/temp/data_8.pickle'), PosixPath('preprocesing_data/temp/data_9.pickle')]\n",
      "[PosixPath('preprocesing_data/temp/data_9.pickle')]\n",
      "[]\n",
      "Epoch 5/5 | train | Loss: 1.3192 | Acc: 0.4449\n"
     ]
    },
    {
     "data": {
      "application/vnd.jupyter.widget-view+json": {
       "model_id": "ec0069c0709943f2a9d0ba79a1e16d1e",
       "version_major": 2,
       "version_minor": 0
      },
      "text/plain": [
       "  0%|          | 0/1024 [00:00<?, ?it/s]"
      ]
     },
     "metadata": {},
     "output_type": "display_data"
    },
    {
     "name": "stdout",
     "output_type": "stream",
     "text": [
      "Epoch 5/5 |  val  | Loss: 1.4190 | Acc: 0.3772\n"
     ]
    },
    {
     "data": {
      "application/vnd.jupyter.widget-view+json": {
       "model_id": "cbfc05bff619459e96fae802d0e5a812",
       "version_major": 2,
       "version_minor": 0
      },
      "text/plain": [
       "  0%|          | 0/14424 [00:00<?, ?it/s]"
      ]
     },
     "metadata": {},
     "output_type": "display_data"
    },
    {
     "name": "stdout",
     "output_type": "stream",
     "text": [
      "[PosixPath('preprocesing_data/temp/dataA_1.pickle'), PosixPath('preprocesing_data/temp/dataA_10.pickle'), PosixPath('preprocesing_data/temp/dataA_11.pickle'), PosixPath('preprocesing_data/temp/dataA_12.pickle'), PosixPath('preprocesing_data/temp/dataA_2.pickle'), PosixPath('preprocesing_data/temp/dataA_3.pickle'), PosixPath('preprocesing_data/temp/dataA_4.pickle'), PosixPath('preprocesing_data/temp/dataA_5.pickle'), PosixPath('preprocesing_data/temp/dataA_6.pickle'), PosixPath('preprocesing_data/temp/dataA_7.pickle'), PosixPath('preprocesing_data/temp/dataA_8.pickle'), PosixPath('preprocesing_data/temp/dataA_9.pickle')]\n",
      "[PosixPath('preprocesing_data/temp/dataA_10.pickle'), PosixPath('preprocesing_data/temp/dataA_11.pickle'), PosixPath('preprocesing_data/temp/dataA_12.pickle'), PosixPath('preprocesing_data/temp/dataA_2.pickle'), PosixPath('preprocesing_data/temp/dataA_3.pickle'), PosixPath('preprocesing_data/temp/dataA_4.pickle'), PosixPath('preprocesing_data/temp/dataA_5.pickle'), PosixPath('preprocesing_data/temp/dataA_6.pickle'), PosixPath('preprocesing_data/temp/dataA_7.pickle'), PosixPath('preprocesing_data/temp/dataA_8.pickle'), PosixPath('preprocesing_data/temp/dataA_9.pickle')]\n",
      "[PosixPath('preprocesing_data/temp/dataA_11.pickle'), PosixPath('preprocesing_data/temp/dataA_12.pickle'), PosixPath('preprocesing_data/temp/dataA_2.pickle'), PosixPath('preprocesing_data/temp/dataA_3.pickle'), PosixPath('preprocesing_data/temp/dataA_4.pickle'), PosixPath('preprocesing_data/temp/dataA_5.pickle'), PosixPath('preprocesing_data/temp/dataA_6.pickle'), PosixPath('preprocesing_data/temp/dataA_7.pickle'), PosixPath('preprocesing_data/temp/dataA_8.pickle'), PosixPath('preprocesing_data/temp/dataA_9.pickle')]\n",
      "[PosixPath('preprocesing_data/temp/dataA_12.pickle'), PosixPath('preprocesing_data/temp/dataA_2.pickle'), PosixPath('preprocesing_data/temp/dataA_3.pickle'), PosixPath('preprocesing_data/temp/dataA_4.pickle'), PosixPath('preprocesing_data/temp/dataA_5.pickle'), PosixPath('preprocesing_data/temp/dataA_6.pickle'), PosixPath('preprocesing_data/temp/dataA_7.pickle'), PosixPath('preprocesing_data/temp/dataA_8.pickle'), PosixPath('preprocesing_data/temp/dataA_9.pickle')]\n",
      "[PosixPath('preprocesing_data/temp/dataA_2.pickle'), PosixPath('preprocesing_data/temp/dataA_3.pickle'), PosixPath('preprocesing_data/temp/dataA_4.pickle'), PosixPath('preprocesing_data/temp/dataA_5.pickle'), PosixPath('preprocesing_data/temp/dataA_6.pickle'), PosixPath('preprocesing_data/temp/dataA_7.pickle'), PosixPath('preprocesing_data/temp/dataA_8.pickle'), PosixPath('preprocesing_data/temp/dataA_9.pickle')]\n",
      "[PosixPath('preprocesing_data/temp/dataA_3.pickle'), PosixPath('preprocesing_data/temp/dataA_4.pickle'), PosixPath('preprocesing_data/temp/dataA_5.pickle'), PosixPath('preprocesing_data/temp/dataA_6.pickle'), PosixPath('preprocesing_data/temp/dataA_7.pickle'), PosixPath('preprocesing_data/temp/dataA_8.pickle'), PosixPath('preprocesing_data/temp/dataA_9.pickle')]\n",
      "[PosixPath('preprocesing_data/temp/dataA_4.pickle'), PosixPath('preprocesing_data/temp/dataA_5.pickle'), PosixPath('preprocesing_data/temp/dataA_6.pickle'), PosixPath('preprocesing_data/temp/dataA_7.pickle'), PosixPath('preprocesing_data/temp/dataA_8.pickle'), PosixPath('preprocesing_data/temp/dataA_9.pickle')]\n",
      "[PosixPath('preprocesing_data/temp/dataA_5.pickle'), PosixPath('preprocesing_data/temp/dataA_6.pickle'), PosixPath('preprocesing_data/temp/dataA_7.pickle'), PosixPath('preprocesing_data/temp/dataA_8.pickle'), PosixPath('preprocesing_data/temp/dataA_9.pickle')]\n",
      "[PosixPath('preprocesing_data/temp/dataA_6.pickle'), PosixPath('preprocesing_data/temp/dataA_7.pickle'), PosixPath('preprocesing_data/temp/dataA_8.pickle'), PosixPath('preprocesing_data/temp/dataA_9.pickle')]\n",
      "[PosixPath('preprocesing_data/temp/dataA_7.pickle'), PosixPath('preprocesing_data/temp/dataA_8.pickle'), PosixPath('preprocesing_data/temp/dataA_9.pickle')]\n",
      "[PosixPath('preprocesing_data/temp/dataA_8.pickle'), PosixPath('preprocesing_data/temp/dataA_9.pickle')]\n",
      "[PosixPath('preprocesing_data/temp/dataA_9.pickle')]\n",
      "[]\n",
      "Epoch 1/5 | train | Loss: 1.3072 | Acc: 0.4573\n"
     ]
    },
    {
     "data": {
      "application/vnd.jupyter.widget-view+json": {
       "model_id": "93932ec407d643be8a021731c98f98f9",
       "version_major": 2,
       "version_minor": 0
      },
      "text/plain": [
       "  0%|          | 0/1024 [00:00<?, ?it/s]"
      ]
     },
     "metadata": {},
     "output_type": "display_data"
    },
    {
     "name": "stdout",
     "output_type": "stream",
     "text": [
      "Epoch 1/5 |  val  | Loss: 1.3984 | Acc: 0.3847\n"
     ]
    },
    {
     "data": {
      "application/vnd.jupyter.widget-view+json": {
       "model_id": "a078228a15474a0094d495b53fce1c47",
       "version_major": 2,
       "version_minor": 0
      },
      "text/plain": [
       "  0%|          | 0/14424 [00:00<?, ?it/s]"
      ]
     },
     "metadata": {},
     "output_type": "display_data"
    },
    {
     "name": "stdout",
     "output_type": "stream",
     "text": [
      "[PosixPath('preprocesing_data/temp/data_1.pickle'), PosixPath('preprocesing_data/temp/data_10.pickle'), PosixPath('preprocesing_data/temp/data_11.pickle'), PosixPath('preprocesing_data/temp/data_12.pickle'), PosixPath('preprocesing_data/temp/data_2.pickle'), PosixPath('preprocesing_data/temp/data_3.pickle'), PosixPath('preprocesing_data/temp/data_4.pickle'), PosixPath('preprocesing_data/temp/data_5.pickle'), PosixPath('preprocesing_data/temp/data_6.pickle'), PosixPath('preprocesing_data/temp/data_7.pickle'), PosixPath('preprocesing_data/temp/data_8.pickle'), PosixPath('preprocesing_data/temp/data_9.pickle')]\n",
      "[PosixPath('preprocesing_data/temp/data_10.pickle'), PosixPath('preprocesing_data/temp/data_11.pickle'), PosixPath('preprocesing_data/temp/data_12.pickle'), PosixPath('preprocesing_data/temp/data_2.pickle'), PosixPath('preprocesing_data/temp/data_3.pickle'), PosixPath('preprocesing_data/temp/data_4.pickle'), PosixPath('preprocesing_data/temp/data_5.pickle'), PosixPath('preprocesing_data/temp/data_6.pickle'), PosixPath('preprocesing_data/temp/data_7.pickle'), PosixPath('preprocesing_data/temp/data_8.pickle'), PosixPath('preprocesing_data/temp/data_9.pickle')]\n",
      "[PosixPath('preprocesing_data/temp/data_11.pickle'), PosixPath('preprocesing_data/temp/data_12.pickle'), PosixPath('preprocesing_data/temp/data_2.pickle'), PosixPath('preprocesing_data/temp/data_3.pickle'), PosixPath('preprocesing_data/temp/data_4.pickle'), PosixPath('preprocesing_data/temp/data_5.pickle'), PosixPath('preprocesing_data/temp/data_6.pickle'), PosixPath('preprocesing_data/temp/data_7.pickle'), PosixPath('preprocesing_data/temp/data_8.pickle'), PosixPath('preprocesing_data/temp/data_9.pickle')]\n",
      "[PosixPath('preprocesing_data/temp/data_12.pickle'), PosixPath('preprocesing_data/temp/data_2.pickle'), PosixPath('preprocesing_data/temp/data_3.pickle'), PosixPath('preprocesing_data/temp/data_4.pickle'), PosixPath('preprocesing_data/temp/data_5.pickle'), PosixPath('preprocesing_data/temp/data_6.pickle'), PosixPath('preprocesing_data/temp/data_7.pickle'), PosixPath('preprocesing_data/temp/data_8.pickle'), PosixPath('preprocesing_data/temp/data_9.pickle')]\n",
      "[PosixPath('preprocesing_data/temp/data_2.pickle'), PosixPath('preprocesing_data/temp/data_3.pickle'), PosixPath('preprocesing_data/temp/data_4.pickle'), PosixPath('preprocesing_data/temp/data_5.pickle'), PosixPath('preprocesing_data/temp/data_6.pickle'), PosixPath('preprocesing_data/temp/data_7.pickle'), PosixPath('preprocesing_data/temp/data_8.pickle'), PosixPath('preprocesing_data/temp/data_9.pickle')]\n",
      "[PosixPath('preprocesing_data/temp/data_3.pickle'), PosixPath('preprocesing_data/temp/data_4.pickle'), PosixPath('preprocesing_data/temp/data_5.pickle'), PosixPath('preprocesing_data/temp/data_6.pickle'), PosixPath('preprocesing_data/temp/data_7.pickle'), PosixPath('preprocesing_data/temp/data_8.pickle'), PosixPath('preprocesing_data/temp/data_9.pickle')]\n",
      "[PosixPath('preprocesing_data/temp/data_4.pickle'), PosixPath('preprocesing_data/temp/data_5.pickle'), PosixPath('preprocesing_data/temp/data_6.pickle'), PosixPath('preprocesing_data/temp/data_7.pickle'), PosixPath('preprocesing_data/temp/data_8.pickle'), PosixPath('preprocesing_data/temp/data_9.pickle')]\n",
      "[PosixPath('preprocesing_data/temp/data_5.pickle'), PosixPath('preprocesing_data/temp/data_6.pickle'), PosixPath('preprocesing_data/temp/data_7.pickle'), PosixPath('preprocesing_data/temp/data_8.pickle'), PosixPath('preprocesing_data/temp/data_9.pickle')]\n",
      "[PosixPath('preprocesing_data/temp/data_6.pickle'), PosixPath('preprocesing_data/temp/data_7.pickle'), PosixPath('preprocesing_data/temp/data_8.pickle'), PosixPath('preprocesing_data/temp/data_9.pickle')]\n",
      "[PosixPath('preprocesing_data/temp/data_7.pickle'), PosixPath('preprocesing_data/temp/data_8.pickle'), PosixPath('preprocesing_data/temp/data_9.pickle')]\n",
      "[PosixPath('preprocesing_data/temp/data_8.pickle'), PosixPath('preprocesing_data/temp/data_9.pickle')]\n",
      "[PosixPath('preprocesing_data/temp/data_9.pickle')]\n",
      "[]\n",
      "Epoch 2/5 | train | Loss: 1.2931 | Acc: 0.4594\n"
     ]
    },
    {
     "data": {
      "application/vnd.jupyter.widget-view+json": {
       "model_id": "1a1e066836da44bfb788bcea27b70144",
       "version_major": 2,
       "version_minor": 0
      },
      "text/plain": [
       "  0%|          | 0/1024 [00:00<?, ?it/s]"
      ]
     },
     "metadata": {},
     "output_type": "display_data"
    },
    {
     "name": "stdout",
     "output_type": "stream",
     "text": [
      "Epoch 2/5 |  val  | Loss: 1.3971 | Acc: 0.3833\n"
     ]
    },
    {
     "data": {
      "application/vnd.jupyter.widget-view+json": {
       "model_id": "5016a127f2434032adff864f98c1ab9f",
       "version_major": 2,
       "version_minor": 0
      },
      "text/plain": [
       "  0%|          | 0/14424 [00:00<?, ?it/s]"
      ]
     },
     "metadata": {},
     "output_type": "display_data"
    },
    {
     "name": "stdout",
     "output_type": "stream",
     "text": [
      "[PosixPath('preprocesing_data/temp/dataA_1.pickle'), PosixPath('preprocesing_data/temp/dataA_10.pickle'), PosixPath('preprocesing_data/temp/dataA_11.pickle'), PosixPath('preprocesing_data/temp/dataA_12.pickle'), PosixPath('preprocesing_data/temp/dataA_2.pickle'), PosixPath('preprocesing_data/temp/dataA_3.pickle'), PosixPath('preprocesing_data/temp/dataA_4.pickle'), PosixPath('preprocesing_data/temp/dataA_5.pickle'), PosixPath('preprocesing_data/temp/dataA_6.pickle'), PosixPath('preprocesing_data/temp/dataA_7.pickle'), PosixPath('preprocesing_data/temp/dataA_8.pickle'), PosixPath('preprocesing_data/temp/dataA_9.pickle')]\n",
      "[PosixPath('preprocesing_data/temp/dataA_10.pickle'), PosixPath('preprocesing_data/temp/dataA_11.pickle'), PosixPath('preprocesing_data/temp/dataA_12.pickle'), PosixPath('preprocesing_data/temp/dataA_2.pickle'), PosixPath('preprocesing_data/temp/dataA_3.pickle'), PosixPath('preprocesing_data/temp/dataA_4.pickle'), PosixPath('preprocesing_data/temp/dataA_5.pickle'), PosixPath('preprocesing_data/temp/dataA_6.pickle'), PosixPath('preprocesing_data/temp/dataA_7.pickle'), PosixPath('preprocesing_data/temp/dataA_8.pickle'), PosixPath('preprocesing_data/temp/dataA_9.pickle')]\n",
      "[PosixPath('preprocesing_data/temp/dataA_11.pickle'), PosixPath('preprocesing_data/temp/dataA_12.pickle'), PosixPath('preprocesing_data/temp/dataA_2.pickle'), PosixPath('preprocesing_data/temp/dataA_3.pickle'), PosixPath('preprocesing_data/temp/dataA_4.pickle'), PosixPath('preprocesing_data/temp/dataA_5.pickle'), PosixPath('preprocesing_data/temp/dataA_6.pickle'), PosixPath('preprocesing_data/temp/dataA_7.pickle'), PosixPath('preprocesing_data/temp/dataA_8.pickle'), PosixPath('preprocesing_data/temp/dataA_9.pickle')]\n",
      "[PosixPath('preprocesing_data/temp/dataA_12.pickle'), PosixPath('preprocesing_data/temp/dataA_2.pickle'), PosixPath('preprocesing_data/temp/dataA_3.pickle'), PosixPath('preprocesing_data/temp/dataA_4.pickle'), PosixPath('preprocesing_data/temp/dataA_5.pickle'), PosixPath('preprocesing_data/temp/dataA_6.pickle'), PosixPath('preprocesing_data/temp/dataA_7.pickle'), PosixPath('preprocesing_data/temp/dataA_8.pickle'), PosixPath('preprocesing_data/temp/dataA_9.pickle')]\n",
      "[PosixPath('preprocesing_data/temp/dataA_2.pickle'), PosixPath('preprocesing_data/temp/dataA_3.pickle'), PosixPath('preprocesing_data/temp/dataA_4.pickle'), PosixPath('preprocesing_data/temp/dataA_5.pickle'), PosixPath('preprocesing_data/temp/dataA_6.pickle'), PosixPath('preprocesing_data/temp/dataA_7.pickle'), PosixPath('preprocesing_data/temp/dataA_8.pickle'), PosixPath('preprocesing_data/temp/dataA_9.pickle')]\n",
      "[PosixPath('preprocesing_data/temp/dataA_3.pickle'), PosixPath('preprocesing_data/temp/dataA_4.pickle'), PosixPath('preprocesing_data/temp/dataA_5.pickle'), PosixPath('preprocesing_data/temp/dataA_6.pickle'), PosixPath('preprocesing_data/temp/dataA_7.pickle'), PosixPath('preprocesing_data/temp/dataA_8.pickle'), PosixPath('preprocesing_data/temp/dataA_9.pickle')]\n",
      "[PosixPath('preprocesing_data/temp/dataA_4.pickle'), PosixPath('preprocesing_data/temp/dataA_5.pickle'), PosixPath('preprocesing_data/temp/dataA_6.pickle'), PosixPath('preprocesing_data/temp/dataA_7.pickle'), PosixPath('preprocesing_data/temp/dataA_8.pickle'), PosixPath('preprocesing_data/temp/dataA_9.pickle')]\n",
      "[PosixPath('preprocesing_data/temp/dataA_5.pickle'), PosixPath('preprocesing_data/temp/dataA_6.pickle'), PosixPath('preprocesing_data/temp/dataA_7.pickle'), PosixPath('preprocesing_data/temp/dataA_8.pickle'), PosixPath('preprocesing_data/temp/dataA_9.pickle')]\n",
      "[PosixPath('preprocesing_data/temp/dataA_6.pickle'), PosixPath('preprocesing_data/temp/dataA_7.pickle'), PosixPath('preprocesing_data/temp/dataA_8.pickle'), PosixPath('preprocesing_data/temp/dataA_9.pickle')]\n",
      "[PosixPath('preprocesing_data/temp/dataA_7.pickle'), PosixPath('preprocesing_data/temp/dataA_8.pickle'), PosixPath('preprocesing_data/temp/dataA_9.pickle')]\n",
      "[PosixPath('preprocesing_data/temp/dataA_8.pickle'), PosixPath('preprocesing_data/temp/dataA_9.pickle')]\n",
      "[PosixPath('preprocesing_data/temp/dataA_9.pickle')]\n",
      "[]\n",
      "Epoch 3/5 | train | Loss: 1.2850 | Acc: 0.4606\n"
     ]
    },
    {
     "data": {
      "application/vnd.jupyter.widget-view+json": {
       "model_id": "a03f81f166d64748a0bcc49ce7d31fc1",
       "version_major": 2,
       "version_minor": 0
      },
      "text/plain": [
       "  0%|          | 0/1024 [00:00<?, ?it/s]"
      ]
     },
     "metadata": {},
     "output_type": "display_data"
    },
    {
     "name": "stdout",
     "output_type": "stream",
     "text": [
      "Epoch 3/5 |  val  | Loss: 1.3959 | Acc: 0.3841\n"
     ]
    },
    {
     "data": {
      "application/vnd.jupyter.widget-view+json": {
       "model_id": "967f808208dd4fbca6379624af457867",
       "version_major": 2,
       "version_minor": 0
      },
      "text/plain": [
       "  0%|          | 0/14424 [00:00<?, ?it/s]"
      ]
     },
     "metadata": {},
     "output_type": "display_data"
    },
    {
     "name": "stdout",
     "output_type": "stream",
     "text": [
      "[PosixPath('preprocesing_data/temp/data_1.pickle'), PosixPath('preprocesing_data/temp/data_10.pickle'), PosixPath('preprocesing_data/temp/data_11.pickle'), PosixPath('preprocesing_data/temp/data_12.pickle'), PosixPath('preprocesing_data/temp/data_2.pickle'), PosixPath('preprocesing_data/temp/data_3.pickle'), PosixPath('preprocesing_data/temp/data_4.pickle'), PosixPath('preprocesing_data/temp/data_5.pickle'), PosixPath('preprocesing_data/temp/data_6.pickle'), PosixPath('preprocesing_data/temp/data_7.pickle'), PosixPath('preprocesing_data/temp/data_8.pickle'), PosixPath('preprocesing_data/temp/data_9.pickle')]\n"
     ]
    },
    {
     "ename": "KeyboardInterrupt",
     "evalue": "",
     "output_type": "error",
     "traceback": [
      "\u001b[0;31m---------------------------------------------------------------------------\u001b[0m",
      "\u001b[0;31mKeyboardInterrupt\u001b[0m                         Traceback (most recent call last)",
      "\u001b[0;32m/tmp/ipykernel_428/324102447.py\u001b[0m in \u001b[0;36m<module>\u001b[0;34m\u001b[0m\n\u001b[1;32m      2\u001b[0m \u001b[0mtrain_model\u001b[0m\u001b[0;34m(\u001b[0m\u001b[0mmodel\u001b[0m\u001b[0;34m,\u001b[0m \u001b[0mdataloaders_dict\u001b[0m\u001b[0;34m,\u001b[0m \u001b[0mcriterion\u001b[0m\u001b[0;34m,\u001b[0m \u001b[0moptimizer\u001b[0m\u001b[0;34m,\u001b[0m \u001b[0mnum_epochs\u001b[0m\u001b[0;34m=\u001b[0m\u001b[0;36m5\u001b[0m\u001b[0;34m)\u001b[0m\u001b[0;34m\u001b[0m\u001b[0;34m\u001b[0m\u001b[0m\n\u001b[1;32m      3\u001b[0m \u001b[0moptimizer\u001b[0m \u001b[0;34m=\u001b[0m \u001b[0mtorch\u001b[0m\u001b[0;34m.\u001b[0m\u001b[0moptim\u001b[0m\u001b[0;34m.\u001b[0m\u001b[0mAdamW\u001b[0m\u001b[0;34m(\u001b[0m\u001b[0mmodel\u001b[0m\u001b[0;34m.\u001b[0m\u001b[0mparameters\u001b[0m\u001b[0;34m(\u001b[0m\u001b[0;34m)\u001b[0m\u001b[0;34m,\u001b[0m \u001b[0mlr\u001b[0m\u001b[0;34m=\u001b[0m\u001b[0;36m1e-4\u001b[0m\u001b[0;34m)\u001b[0m\u001b[0;34m\u001b[0m\u001b[0;34m\u001b[0m\u001b[0m\n\u001b[0;32m----> 4\u001b[0;31m \u001b[0mtrain_model\u001b[0m\u001b[0;34m(\u001b[0m\u001b[0mmodel\u001b[0m\u001b[0;34m,\u001b[0m \u001b[0mdataloaders_dict\u001b[0m\u001b[0;34m,\u001b[0m \u001b[0mcriterion\u001b[0m\u001b[0;34m,\u001b[0m \u001b[0moptimizer\u001b[0m\u001b[0;34m,\u001b[0m \u001b[0mnum_epochs\u001b[0m\u001b[0;34m=\u001b[0m\u001b[0;36m5\u001b[0m\u001b[0;34m)\u001b[0m\u001b[0;34m\u001b[0m\u001b[0;34m\u001b[0m\u001b[0m\n\u001b[0m\u001b[1;32m      5\u001b[0m \u001b[0moptimizer\u001b[0m \u001b[0;34m=\u001b[0m \u001b[0mtorch\u001b[0m\u001b[0;34m.\u001b[0m\u001b[0moptim\u001b[0m\u001b[0;34m.\u001b[0m\u001b[0mAdamW\u001b[0m\u001b[0;34m(\u001b[0m\u001b[0mmodel\u001b[0m\u001b[0;34m.\u001b[0m\u001b[0mparameters\u001b[0m\u001b[0;34m(\u001b[0m\u001b[0;34m)\u001b[0m\u001b[0;34m,\u001b[0m \u001b[0mlr\u001b[0m\u001b[0;34m=\u001b[0m\u001b[0;36m1e-5\u001b[0m\u001b[0;34m)\u001b[0m\u001b[0;34m\u001b[0m\u001b[0;34m\u001b[0m\u001b[0m\n\u001b[1;32m      6\u001b[0m \u001b[0mtrain_model\u001b[0m\u001b[0;34m(\u001b[0m\u001b[0mmodel\u001b[0m\u001b[0;34m,\u001b[0m \u001b[0mdataloaders_dict\u001b[0m\u001b[0;34m,\u001b[0m \u001b[0mcriterion\u001b[0m\u001b[0;34m,\u001b[0m \u001b[0moptimizer\u001b[0m\u001b[0;34m,\u001b[0m \u001b[0mnum_epochs\u001b[0m\u001b[0;34m=\u001b[0m\u001b[0;36m2\u001b[0m\u001b[0;34m)\u001b[0m\u001b[0;34m\u001b[0m\u001b[0;34m\u001b[0m\u001b[0m\n",
      "\u001b[0;32m/tmp/ipykernel_428/1421709105.py\u001b[0m in \u001b[0;36mtrain_model\u001b[0;34m(model, dataloaders_dict, criterion, optimizer, num_epochs)\u001b[0m\n\u001b[1;32m     16\u001b[0m             \u001b[0mdataloader\u001b[0m \u001b[0;34m=\u001b[0m \u001b[0mdataloaders_dict\u001b[0m\u001b[0;34m[\u001b[0m\u001b[0mphase\u001b[0m\u001b[0;34m]\u001b[0m\u001b[0;34m\u001b[0m\u001b[0;34m\u001b[0m\u001b[0m\n\u001b[1;32m     17\u001b[0m             \u001b[0;32mfor\u001b[0m \u001b[0mitem\u001b[0m \u001b[0;32min\u001b[0m \u001b[0mtqdm\u001b[0m\u001b[0;34m(\u001b[0m\u001b[0mdataloader\u001b[0m\u001b[0;34m,\u001b[0m \u001b[0mleave\u001b[0m\u001b[0;34m=\u001b[0m\u001b[0;32mFalse\u001b[0m\u001b[0;34m)\u001b[0m\u001b[0;34m:\u001b[0m\u001b[0;34m\u001b[0m\u001b[0;34m\u001b[0m\u001b[0m\n\u001b[0;32m---> 18\u001b[0;31m                 \u001b[0mstates\u001b[0m \u001b[0;34m=\u001b[0m \u001b[0mitem\u001b[0m\u001b[0;34m[\u001b[0m\u001b[0;36m0\u001b[0m\u001b[0;34m]\u001b[0m\u001b[0;34m.\u001b[0m\u001b[0mcuda\u001b[0m\u001b[0;34m(\u001b[0m\u001b[0;34m)\u001b[0m\u001b[0;34m.\u001b[0m\u001b[0mfloat\u001b[0m\u001b[0;34m(\u001b[0m\u001b[0;34m)\u001b[0m\u001b[0;34m\u001b[0m\u001b[0;34m\u001b[0m\u001b[0m\n\u001b[0m\u001b[1;32m     19\u001b[0m                 \u001b[0mactions\u001b[0m \u001b[0;34m=\u001b[0m \u001b[0mitem\u001b[0m\u001b[0;34m[\u001b[0m\u001b[0;36m1\u001b[0m\u001b[0;34m]\u001b[0m\u001b[0;34m.\u001b[0m\u001b[0mcuda\u001b[0m\u001b[0;34m(\u001b[0m\u001b[0;34m)\u001b[0m\u001b[0;34m.\u001b[0m\u001b[0mlong\u001b[0m\u001b[0;34m(\u001b[0m\u001b[0;34m)\u001b[0m\u001b[0;34m\u001b[0m\u001b[0;34m\u001b[0m\u001b[0m\n\u001b[1;32m     20\u001b[0m \u001b[0;34m\u001b[0m\u001b[0m\n",
      "\u001b[0;31mKeyboardInterrupt\u001b[0m: "
     ]
    }
   ],
   "source": [
    "optimizer = torch.optim.AdamW(model.parameters(), lr=1e-3)\n",
    "train_model(model, dataloaders_dict, criterion, optimizer, num_epochs=5)\n",
    "optimizer = torch.optim.AdamW(model.parameters(), lr=1e-4)\n",
    "train_model(model, dataloaders_dict, criterion, optimizer, num_epochs=5)\n",
    "optimizer = torch.optim.AdamW(model.parameters(), lr=1e-5)\n",
    "train_model(model, dataloaders_dict, criterion, optimizer, num_epochs=2)"
   ]
  },
  {
   "cell_type": "markdown",
   "metadata": {},
   "source": [
    "# Cheak Dummy\n",
    "\n"
   ]
  },
  {
   "cell_type": "code",
   "execution_count": 97,
   "metadata": {},
   "outputs": [],
   "source": [
    "labels={ 0:'n', 1: 's', 2: 'w', 3: 'e', 4:\"build\"}\n",
    "labels_count={ 0:0, 1:0, 2: 0, 3: 0, 4:0}\n",
    "\n",
    "\n",
    "for action in dataset_test.shufle:\n",
    "    labels_count[action[-1]]+=1\n",
    "    "
   ]
  },
  {
   "cell_type": "code",
   "execution_count": 100,
   "metadata": {},
   "outputs": [],
   "source": [
    "for i in labels_count:\n",
    "    labels_count[i]/=len(dataset_test.shufle)"
   ]
  },
  {
   "cell_type": "code",
   "execution_count": 106,
   "metadata": {},
   "outputs": [
    {
     "name": "stdout",
     "output_type": "stream",
     "text": [
      "n: 0.28%\n",
      "s: 0.25%\n",
      "w: 0.19%\n",
      "e: 0.19%\n",
      "build: 0.09%\n"
     ]
    }
   ],
   "source": [
    "for action in labels_count:\n",
    "    print(f\"{labels[action]}: {round(labels_count[action],2)}%\")"
   ]
  },
  {
   "cell_type": "code",
   "execution_count": null,
   "metadata": {},
   "outputs": [],
   "source": []
  }
 ],
 "metadata": {
  "kernelspec": {
   "display_name": "Python 3.8.10 ('base')",
   "language": "python",
   "name": "python3"
  },
  "language_info": {
   "codemirror_mode": {
    "name": "ipython",
    "version": 3
   },
   "file_extension": ".py",
   "mimetype": "text/x-python",
   "name": "python",
   "nbconvert_exporter": "python",
   "pygments_lexer": "ipython3",
   "version": "3.8.10"
  },
  "vscode": {
   "interpreter": {
    "hash": "106b83387a332889531b43f1fc064f50c8ea3c4feb3777bae6d55083cb1d5e10"
   }
  }
 },
 "nbformat": 4,
 "nbformat_minor": 4
}
